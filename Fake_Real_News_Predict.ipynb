{
  "nbformat": 4,
  "nbformat_minor": 0,
  "metadata": {
    "colab": {
      "provenance": []
    },
    "kernelspec": {
      "name": "python3",
      "display_name": "Python 3"
    }
  },
  "cells": [
    {
      "cell_type": "markdown",
      "metadata": {
        "id": "FaIBmnXCknPl"
      },
      "source": [
        "About the Dataset:\n",
        "\n",
        "1. id: bir haber makalesi için benzersiz kimlik\n",
        "2. başlık: bir haber makalesinin başlığı\n",
        "3. yazar: haber makalesinin yazarı\n",
        "4. metin: makalenin metni; eksik olabilir\n",
        "5. etiket: haber makalesinin gerçek mi yoksa sahte mi olduğunu gösteren bir etiket\n",
        "           1: Fake news\n",
        "           0: real News\n",
        "\n",
        "\n",
        "\n",
        "\n"
      ]
    },
    {
      "cell_type": "markdown",
      "metadata": {
        "id": "k399dHafvL5N"
      },
      "source": [
        "Importing the Dependencies"
      ]
    },
    {
      "cell_type": "code",
      "metadata": {
        "id": "-fetC5yqkPVe"
      },
      "source": [
        "import numpy as np\n",
        "import pandas as pd\n",
        "import re                        #   Metin içindeki belirli desenleri (örneğin, belirli bir kelimeyi, numarayı vb.) bulmak ve bu desenlere göre metni manipüle etmek için kullanılır.\n",
        "from nltk.corpus import stopwords  # Stopwords, doğal dil işleme sırasında genellikle anlamsız kabul edilen yaygın kelimelerdir (örneğin, \"the\", \"is\", \"in\" gibi İngilizce kelimeler).Bunları temizlemek için kullanılır\n",
        "from nltk.stem.porter import PorterStemmer    # PorterStemmer, kelimelerin kök haline (stem) indirilmesi için kullanılan bir algoritmadır. Örneğin, \"running\" kelimesi \"run\" köküne indirgenir.\n",
        "from sklearn.feature_extraction.text import TfidfVectorizer   # TF-IDF (Term Frequency-Inverse Document Frequency) yöntemiyle metin verilerini sayısal verilere dönüştürür. Kelime sıklığını ve kelimenin önemli olup olmadığını belirler.\n",
        "from sklearn.model_selection import train_test_split\n",
        "from sklearn.linear_model import LogisticRegression\n",
        "from sklearn.metrics import accuracy_score"
      ],
      "execution_count": 53,
      "outputs": []
    },
    {
      "cell_type": "code",
      "metadata": {
        "colab": {
          "base_uri": "https://localhost:8080/"
        },
        "id": "1AC1YpmGwIDw",
        "outputId": "0c2b1ec8-2d8d-4024-b5c0-b019abb76540"
      },
      "source": [
        "import nltk\n",
        "nltk.download('stopwords')"
      ],
      "execution_count": 54,
      "outputs": [
        {
          "output_type": "stream",
          "name": "stderr",
          "text": [
            "[nltk_data] Downloading package stopwords to /root/nltk_data...\n",
            "[nltk_data]   Package stopwords is already up-to-date!\n"
          ]
        },
        {
          "output_type": "execute_result",
          "data": {
            "text/plain": [
              "True"
            ]
          },
          "metadata": {},
          "execution_count": 54
        }
      ]
    },
    {
      "cell_type": "code",
      "metadata": {
        "colab": {
          "base_uri": "https://localhost:8080/"
        },
        "id": "dxIOt3DowpUR",
        "outputId": "79a12e61-6b70-4f87-8249-fd41f21dca96"
      },
      "source": [
        "# İngilizce durak kelimelerin yazdırılması\n",
        "print(stopwords.words('english'))"
      ],
      "execution_count": 55,
      "outputs": [
        {
          "output_type": "stream",
          "name": "stdout",
          "text": [
            "['i', 'me', 'my', 'myself', 'we', 'our', 'ours', 'ourselves', 'you', \"you're\", \"you've\", \"you'll\", \"you'd\", 'your', 'yours', 'yourself', 'yourselves', 'he', 'him', 'his', 'himself', 'she', \"she's\", 'her', 'hers', 'herself', 'it', \"it's\", 'its', 'itself', 'they', 'them', 'their', 'theirs', 'themselves', 'what', 'which', 'who', 'whom', 'this', 'that', \"that'll\", 'these', 'those', 'am', 'is', 'are', 'was', 'were', 'be', 'been', 'being', 'have', 'has', 'had', 'having', 'do', 'does', 'did', 'doing', 'a', 'an', 'the', 'and', 'but', 'if', 'or', 'because', 'as', 'until', 'while', 'of', 'at', 'by', 'for', 'with', 'about', 'against', 'between', 'into', 'through', 'during', 'before', 'after', 'above', 'below', 'to', 'from', 'up', 'down', 'in', 'out', 'on', 'off', 'over', 'under', 'again', 'further', 'then', 'once', 'here', 'there', 'when', 'where', 'why', 'how', 'all', 'any', 'both', 'each', 'few', 'more', 'most', 'other', 'some', 'such', 'no', 'nor', 'not', 'only', 'own', 'same', 'so', 'than', 'too', 'very', 's', 't', 'can', 'will', 'just', 'don', \"don't\", 'should', \"should've\", 'now', 'd', 'll', 'm', 'o', 're', 've', 'y', 'ain', 'aren', \"aren't\", 'couldn', \"couldn't\", 'didn', \"didn't\", 'doesn', \"doesn't\", 'hadn', \"hadn't\", 'hasn', \"hasn't\", 'haven', \"haven't\", 'isn', \"isn't\", 'ma', 'mightn', \"mightn't\", 'mustn', \"mustn't\", 'needn', \"needn't\", 'shan', \"shan't\", 'shouldn', \"shouldn't\", 'wasn', \"wasn't\", 'weren', \"weren't\", 'won', \"won't\", 'wouldn', \"wouldn't\"]\n"
          ]
        }
      ]
    },
    {
      "cell_type": "markdown",
      "metadata": {
        "id": "NjeGd1CLw_6R"
      },
      "source": [
        "Data Pre-processing"
      ]
    },
    {
      "cell_type": "code",
      "metadata": {
        "id": "nCGcpu_1wzLw"
      },
      "source": [
        "# veri kümesini bir pandas DataFrame'e yükleme\n",
        "\n",
        "news_dataset = pd.read_csv('/content/train.csv', encoding='iso-8859-1', on_bad_lines='skip')\n"
      ],
      "execution_count": 60,
      "outputs": []
    },
    {
      "cell_type": "code",
      "metadata": {
        "colab": {
          "base_uri": "https://localhost:8080/"
        },
        "id": "aRgmbYSbxV4-",
        "outputId": "d1919dd1-a277-428f-8b2b-9d60ae8c4056"
      },
      "source": [
        "news_dataset.shape"
      ],
      "execution_count": 61,
      "outputs": [
        {
          "output_type": "execute_result",
          "data": {
            "text/plain": [
              "(34534, 5)"
            ]
          },
          "metadata": {},
          "execution_count": 61
        }
      ]
    },
    {
      "cell_type": "code",
      "metadata": {
        "colab": {
          "base_uri": "https://localhost:8080/",
          "height": 300
        },
        "id": "jjJ1eB6RxZaS",
        "outputId": "5230eefd-5026-41d0-8208-4fd6d6fe72e8"
      },
      "source": [
        "# veri çerçevesinin ilk 5 satırını yazdırır\n",
        "news_dataset.head(8)"
      ],
      "execution_count": 62,
      "outputs": [
        {
          "output_type": "execute_result",
          "data": {
            "text/plain": [
              "  id                                              title              author  \\\n",
              "0  0  House Dem Aide: We Didnât Even See Comeyâs...       Darrell Lucus   \n",
              "1  1  FLYNN: Hillary Clinton, Big Woman on Campus - ...     Daniel J. Flynn   \n",
              "2  2                  Why the Truth Might Get You Fired  Consortiumnews.com   \n",
              "3  3  15 Civilians Killed In Single US Airstrike Hav...     Jessica Purkiss   \n",
              "4  4  Iranian woman jailed for fictional unpublished...      Howard Portnoy   \n",
              "5  5  Jackie Mason: Hollywood Would Love Trump if He...     Daniel Nussbaum   \n",
              "6  6  Life: Life Of Luxury: Elton Johnâs 6 Favorit...                 NaN   \n",
              "7  7  BenoÃ®t Hamon Wins French Socialist Partyâs ...     Alissa J. Rubin   \n",
              "\n",
              "                                                text label  \n",
              "0  House Dem Aide: We Didnât Even See Comeyâs...     1  \n",
              "1  Ever get the feeling your life circles the rou...     0  \n",
              "2  Why the Truth Might Get You Fired October 29, ...     1  \n",
              "3  Videos 15 Civilians Killed In Single US Airstr...     1  \n",
              "4  Print \\nAn Iranian woman has been sentenced to...     1  \n",
              "5  In these trying times, Jackie Mason is the Voi...     0  \n",
              "6  Ever wonder how Britainâs most iconic pop pi...     1  \n",
              "7  PARIS  â   France chose an idealistic, tradi...     0  "
            ],
            "text/html": [
              "\n",
              "  <div id=\"df-6ec6d2ef-add2-4dd0-b980-053272f1a37a\" class=\"colab-df-container\">\n",
              "    <div>\n",
              "<style scoped>\n",
              "    .dataframe tbody tr th:only-of-type {\n",
              "        vertical-align: middle;\n",
              "    }\n",
              "\n",
              "    .dataframe tbody tr th {\n",
              "        vertical-align: top;\n",
              "    }\n",
              "\n",
              "    .dataframe thead th {\n",
              "        text-align: right;\n",
              "    }\n",
              "</style>\n",
              "<table border=\"1\" class=\"dataframe\">\n",
              "  <thead>\n",
              "    <tr style=\"text-align: right;\">\n",
              "      <th></th>\n",
              "      <th>id</th>\n",
              "      <th>title</th>\n",
              "      <th>author</th>\n",
              "      <th>text</th>\n",
              "      <th>label</th>\n",
              "    </tr>\n",
              "  </thead>\n",
              "  <tbody>\n",
              "    <tr>\n",
              "      <th>0</th>\n",
              "      <td>0</td>\n",
              "      <td>House Dem Aide: We Didnât Even See Comeyâs...</td>\n",
              "      <td>Darrell Lucus</td>\n",
              "      <td>House Dem Aide: We Didnât Even See Comeyâs...</td>\n",
              "      <td>1</td>\n",
              "    </tr>\n",
              "    <tr>\n",
              "      <th>1</th>\n",
              "      <td>1</td>\n",
              "      <td>FLYNN: Hillary Clinton, Big Woman on Campus - ...</td>\n",
              "      <td>Daniel J. Flynn</td>\n",
              "      <td>Ever get the feeling your life circles the rou...</td>\n",
              "      <td>0</td>\n",
              "    </tr>\n",
              "    <tr>\n",
              "      <th>2</th>\n",
              "      <td>2</td>\n",
              "      <td>Why the Truth Might Get You Fired</td>\n",
              "      <td>Consortiumnews.com</td>\n",
              "      <td>Why the Truth Might Get You Fired October 29, ...</td>\n",
              "      <td>1</td>\n",
              "    </tr>\n",
              "    <tr>\n",
              "      <th>3</th>\n",
              "      <td>3</td>\n",
              "      <td>15 Civilians Killed In Single US Airstrike Hav...</td>\n",
              "      <td>Jessica Purkiss</td>\n",
              "      <td>Videos 15 Civilians Killed In Single US Airstr...</td>\n",
              "      <td>1</td>\n",
              "    </tr>\n",
              "    <tr>\n",
              "      <th>4</th>\n",
              "      <td>4</td>\n",
              "      <td>Iranian woman jailed for fictional unpublished...</td>\n",
              "      <td>Howard Portnoy</td>\n",
              "      <td>Print \\nAn Iranian woman has been sentenced to...</td>\n",
              "      <td>1</td>\n",
              "    </tr>\n",
              "    <tr>\n",
              "      <th>5</th>\n",
              "      <td>5</td>\n",
              "      <td>Jackie Mason: Hollywood Would Love Trump if He...</td>\n",
              "      <td>Daniel Nussbaum</td>\n",
              "      <td>In these trying times, Jackie Mason is the Voi...</td>\n",
              "      <td>0</td>\n",
              "    </tr>\n",
              "    <tr>\n",
              "      <th>6</th>\n",
              "      <td>6</td>\n",
              "      <td>Life: Life Of Luxury: Elton Johnâs 6 Favorit...</td>\n",
              "      <td>NaN</td>\n",
              "      <td>Ever wonder how Britainâs most iconic pop pi...</td>\n",
              "      <td>1</td>\n",
              "    </tr>\n",
              "    <tr>\n",
              "      <th>7</th>\n",
              "      <td>7</td>\n",
              "      <td>BenoÃ®t Hamon Wins French Socialist Partyâs ...</td>\n",
              "      <td>Alissa J. Rubin</td>\n",
              "      <td>PARIS  â   France chose an idealistic, tradi...</td>\n",
              "      <td>0</td>\n",
              "    </tr>\n",
              "  </tbody>\n",
              "</table>\n",
              "</div>\n",
              "    <div class=\"colab-df-buttons\">\n",
              "\n",
              "  <div class=\"colab-df-container\">\n",
              "    <button class=\"colab-df-convert\" onclick=\"convertToInteractive('df-6ec6d2ef-add2-4dd0-b980-053272f1a37a')\"\n",
              "            title=\"Convert this dataframe to an interactive table.\"\n",
              "            style=\"display:none;\">\n",
              "\n",
              "  <svg xmlns=\"http://www.w3.org/2000/svg\" height=\"24px\" viewBox=\"0 -960 960 960\">\n",
              "    <path d=\"M120-120v-720h720v720H120Zm60-500h600v-160H180v160Zm220 220h160v-160H400v160Zm0 220h160v-160H400v160ZM180-400h160v-160H180v160Zm440 0h160v-160H620v160ZM180-180h160v-160H180v160Zm440 0h160v-160H620v160Z\"/>\n",
              "  </svg>\n",
              "    </button>\n",
              "\n",
              "  <style>\n",
              "    .colab-df-container {\n",
              "      display:flex;\n",
              "      gap: 12px;\n",
              "    }\n",
              "\n",
              "    .colab-df-convert {\n",
              "      background-color: #E8F0FE;\n",
              "      border: none;\n",
              "      border-radius: 50%;\n",
              "      cursor: pointer;\n",
              "      display: none;\n",
              "      fill: #1967D2;\n",
              "      height: 32px;\n",
              "      padding: 0 0 0 0;\n",
              "      width: 32px;\n",
              "    }\n",
              "\n",
              "    .colab-df-convert:hover {\n",
              "      background-color: #E2EBFA;\n",
              "      box-shadow: 0px 1px 2px rgba(60, 64, 67, 0.3), 0px 1px 3px 1px rgba(60, 64, 67, 0.15);\n",
              "      fill: #174EA6;\n",
              "    }\n",
              "\n",
              "    .colab-df-buttons div {\n",
              "      margin-bottom: 4px;\n",
              "    }\n",
              "\n",
              "    [theme=dark] .colab-df-convert {\n",
              "      background-color: #3B4455;\n",
              "      fill: #D2E3FC;\n",
              "    }\n",
              "\n",
              "    [theme=dark] .colab-df-convert:hover {\n",
              "      background-color: #434B5C;\n",
              "      box-shadow: 0px 1px 3px 1px rgba(0, 0, 0, 0.15);\n",
              "      filter: drop-shadow(0px 1px 2px rgba(0, 0, 0, 0.3));\n",
              "      fill: #FFFFFF;\n",
              "    }\n",
              "  </style>\n",
              "\n",
              "    <script>\n",
              "      const buttonEl =\n",
              "        document.querySelector('#df-6ec6d2ef-add2-4dd0-b980-053272f1a37a button.colab-df-convert');\n",
              "      buttonEl.style.display =\n",
              "        google.colab.kernel.accessAllowed ? 'block' : 'none';\n",
              "\n",
              "      async function convertToInteractive(key) {\n",
              "        const element = document.querySelector('#df-6ec6d2ef-add2-4dd0-b980-053272f1a37a');\n",
              "        const dataTable =\n",
              "          await google.colab.kernel.invokeFunction('convertToInteractive',\n",
              "                                                    [key], {});\n",
              "        if (!dataTable) return;\n",
              "\n",
              "        const docLinkHtml = 'Like what you see? Visit the ' +\n",
              "          '<a target=\"_blank\" href=https://colab.research.google.com/notebooks/data_table.ipynb>data table notebook</a>'\n",
              "          + ' to learn more about interactive tables.';\n",
              "        element.innerHTML = '';\n",
              "        dataTable['output_type'] = 'display_data';\n",
              "        await google.colab.output.renderOutput(dataTable, element);\n",
              "        const docLink = document.createElement('div');\n",
              "        docLink.innerHTML = docLinkHtml;\n",
              "        element.appendChild(docLink);\n",
              "      }\n",
              "    </script>\n",
              "  </div>\n",
              "\n",
              "\n",
              "<div id=\"df-9cab56cf-733f-43c5-b960-ca970702602d\">\n",
              "  <button class=\"colab-df-quickchart\" onclick=\"quickchart('df-9cab56cf-733f-43c5-b960-ca970702602d')\"\n",
              "            title=\"Suggest charts\"\n",
              "            style=\"display:none;\">\n",
              "\n",
              "<svg xmlns=\"http://www.w3.org/2000/svg\" height=\"24px\"viewBox=\"0 0 24 24\"\n",
              "     width=\"24px\">\n",
              "    <g>\n",
              "        <path d=\"M19 3H5c-1.1 0-2 .9-2 2v14c0 1.1.9 2 2 2h14c1.1 0 2-.9 2-2V5c0-1.1-.9-2-2-2zM9 17H7v-7h2v7zm4 0h-2V7h2v10zm4 0h-2v-4h2v4z\"/>\n",
              "    </g>\n",
              "</svg>\n",
              "  </button>\n",
              "\n",
              "<style>\n",
              "  .colab-df-quickchart {\n",
              "      --bg-color: #E8F0FE;\n",
              "      --fill-color: #1967D2;\n",
              "      --hover-bg-color: #E2EBFA;\n",
              "      --hover-fill-color: #174EA6;\n",
              "      --disabled-fill-color: #AAA;\n",
              "      --disabled-bg-color: #DDD;\n",
              "  }\n",
              "\n",
              "  [theme=dark] .colab-df-quickchart {\n",
              "      --bg-color: #3B4455;\n",
              "      --fill-color: #D2E3FC;\n",
              "      --hover-bg-color: #434B5C;\n",
              "      --hover-fill-color: #FFFFFF;\n",
              "      --disabled-bg-color: #3B4455;\n",
              "      --disabled-fill-color: #666;\n",
              "  }\n",
              "\n",
              "  .colab-df-quickchart {\n",
              "    background-color: var(--bg-color);\n",
              "    border: none;\n",
              "    border-radius: 50%;\n",
              "    cursor: pointer;\n",
              "    display: none;\n",
              "    fill: var(--fill-color);\n",
              "    height: 32px;\n",
              "    padding: 0;\n",
              "    width: 32px;\n",
              "  }\n",
              "\n",
              "  .colab-df-quickchart:hover {\n",
              "    background-color: var(--hover-bg-color);\n",
              "    box-shadow: 0 1px 2px rgba(60, 64, 67, 0.3), 0 1px 3px 1px rgba(60, 64, 67, 0.15);\n",
              "    fill: var(--button-hover-fill-color);\n",
              "  }\n",
              "\n",
              "  .colab-df-quickchart-complete:disabled,\n",
              "  .colab-df-quickchart-complete:disabled:hover {\n",
              "    background-color: var(--disabled-bg-color);\n",
              "    fill: var(--disabled-fill-color);\n",
              "    box-shadow: none;\n",
              "  }\n",
              "\n",
              "  .colab-df-spinner {\n",
              "    border: 2px solid var(--fill-color);\n",
              "    border-color: transparent;\n",
              "    border-bottom-color: var(--fill-color);\n",
              "    animation:\n",
              "      spin 1s steps(1) infinite;\n",
              "  }\n",
              "\n",
              "  @keyframes spin {\n",
              "    0% {\n",
              "      border-color: transparent;\n",
              "      border-bottom-color: var(--fill-color);\n",
              "      border-left-color: var(--fill-color);\n",
              "    }\n",
              "    20% {\n",
              "      border-color: transparent;\n",
              "      border-left-color: var(--fill-color);\n",
              "      border-top-color: var(--fill-color);\n",
              "    }\n",
              "    30% {\n",
              "      border-color: transparent;\n",
              "      border-left-color: var(--fill-color);\n",
              "      border-top-color: var(--fill-color);\n",
              "      border-right-color: var(--fill-color);\n",
              "    }\n",
              "    40% {\n",
              "      border-color: transparent;\n",
              "      border-right-color: var(--fill-color);\n",
              "      border-top-color: var(--fill-color);\n",
              "    }\n",
              "    60% {\n",
              "      border-color: transparent;\n",
              "      border-right-color: var(--fill-color);\n",
              "    }\n",
              "    80% {\n",
              "      border-color: transparent;\n",
              "      border-right-color: var(--fill-color);\n",
              "      border-bottom-color: var(--fill-color);\n",
              "    }\n",
              "    90% {\n",
              "      border-color: transparent;\n",
              "      border-bottom-color: var(--fill-color);\n",
              "    }\n",
              "  }\n",
              "</style>\n",
              "\n",
              "  <script>\n",
              "    async function quickchart(key) {\n",
              "      const quickchartButtonEl =\n",
              "        document.querySelector('#' + key + ' button');\n",
              "      quickchartButtonEl.disabled = true;  // To prevent multiple clicks.\n",
              "      quickchartButtonEl.classList.add('colab-df-spinner');\n",
              "      try {\n",
              "        const charts = await google.colab.kernel.invokeFunction(\n",
              "            'suggestCharts', [key], {});\n",
              "      } catch (error) {\n",
              "        console.error('Error during call to suggestCharts:', error);\n",
              "      }\n",
              "      quickchartButtonEl.classList.remove('colab-df-spinner');\n",
              "      quickchartButtonEl.classList.add('colab-df-quickchart-complete');\n",
              "    }\n",
              "    (() => {\n",
              "      let quickchartButtonEl =\n",
              "        document.querySelector('#df-9cab56cf-733f-43c5-b960-ca970702602d button');\n",
              "      quickchartButtonEl.style.display =\n",
              "        google.colab.kernel.accessAllowed ? 'block' : 'none';\n",
              "    })();\n",
              "  </script>\n",
              "</div>\n",
              "\n",
              "    </div>\n",
              "  </div>\n"
            ],
            "application/vnd.google.colaboratory.intrinsic+json": {
              "type": "dataframe",
              "variable_name": "news_dataset",
              "summary": "{\n  \"name\": \"news_dataset\",\n  \"rows\": 34534,\n  \"fields\": [\n    {\n      \"column\": \"id\",\n      \"properties\": {\n        \"dtype\": \"string\",\n        \"num_unique_values\": 20834,\n        \"samples\": [\n          \"9672\",\n          \"284\",\n          \"1876\"\n        ],\n        \"semantic_type\": \"\",\n        \"description\": \"\"\n      }\n    },\n    {\n      \"column\": \"title\",\n      \"properties\": {\n        \"dtype\": \"string\",\n        \"num_unique_values\": 19826,\n        \"samples\": [\n          \"\\u00e2\\u0080\\u0098The New Edition Story\\u00e2\\u0080\\u0099: A Loving Tribute to a Talented but Tormented Group - The New York Times\",\n          \"Desert Trip Festival Woos Classic Rock Fans (Emphasis on \\u00e2\\u0080\\u0098Classic\\u00e2\\u0080\\u0099) - The New York Times\",\n          \"HOT: \\\"Norpoth's Model\\\" Predicts Trump Presidency\"\n        ],\n        \"semantic_type\": \"\",\n        \"description\": \"\"\n      }\n    },\n    {\n      \"column\": \"author\",\n      \"properties\": {\n        \"dtype\": \"category\",\n        \"num_unique_values\": 4220,\n        \"samples\": [\n          \"Carlotta Gall\",\n          \"Cliff Kincaid\",\n          \"Peter Baker and Steven Erlanger\"\n        ],\n        \"semantic_type\": \"\",\n        \"description\": \"\"\n      }\n    },\n    {\n      \"column\": \"text\",\n      \"properties\": {\n        \"dtype\": \"string\",\n        \"num_unique_values\": 20454,\n        \"samples\": [\n          \"The Arctic Ocean may seem remote and forbidding, but to birds, whales and other animals, it\\u00e2\\u0080\\u0099s a   dining destination. \\u00e2\\u0080\\u009cIt\\u00e2\\u0080\\u0099s a great place to get food in the summertime, so animals are flying or swimming thousands of miles to get there,\\u00e2\\u0080\\u009d said Kevin R. Arrigo, a biological oceanographer at Stanford University. But the menu is changing. Confirming earlier research, scientists reported Wednesday that global warming is altering the ecology of the Arctic Ocean on a huge scale. The annual production of algae, the base of the food web, increased an estimated 47 percent between 1997 and 2015, and the ocean is greening up much earlier each year. These changes are likely to have a profound impact for animals further up the food chain, such as birds, seals, polar bears and whales. But scientists still don\\u00e2\\u0080\\u0099t know enough about the biology of the Arctic Ocean to predict what the ecosystem will look like in decades to come. While global warming has affected the whole planet in recent decades, nowhere has been hit harder than the Arctic. This month, temperatures in the high Arctic have been as much as 36 degrees above average, according to records kept by the Danish Meteorological Institute. In October, the extent of sea ice was 28. 5 percent below average  \\u00e2\\u0080\\u0094   the lowest for the month since scientists began keeping records in 1979. The area of missing ice is the size of Alaska and Texas put together. Since the   researchers like Dr. Arrigo have been trying to assess the effects of retreating ice on the Arctic ecosystem. The sun returns to the Arctic each spring and melts some of the ice that formed in winter. Algae in the open water quickly spring to life and start growing. These algae are the base of the food chain in the Arctic Ocean, grazed by krill and other invertebrates that in turn support bigger fish, mammals and birds. Dr. Arrigo and his colleagues visited the Arctic in research ships to examine algae in the water and to determine how it affected the water\\u00e2\\u0080\\u0099s color. They then reviewed satellite images of the Arctic Ocean, relying on the color of the water to estimate how much algae was growing  \\u00e2\\u0080\\u0094   what scientists call the ocean\\u00e2\\u0080\\u0099s productivity. The sea\\u00e2\\u0080\\u0099s productivity was rapidly increasing, Dr. Arrigo found. Last year he and his colleagues published their latest update, estimating that the productivity of the Arctic rose 30 percent between 1998 and 2012. But Mati Kahru, an oceanographer at the University of California, San Diego, was skeptical. As an expert on remote sensing, he knew how hard it is to get a reliable picture of the Arctic Ocean. The ocean is notoriously cloudy, and algae are not the only thing that tinting the water. Rivers deliver   organic matter into the Arctic Ocean, which can give the impression that there\\u00e2\\u0080\\u0099s more algae in the water than is actually there. Dr. Kahru and his colleagues decided to take an independent look, scouring satellite databases for images taken from 1997 to 2015  \\u00e2\\u0080\\u0094   \\u00e2\\u0080\\u009cevery image available,\\u00e2\\u0080\\u009d he said. The scientists used a mathematical equation to determine how the color in each pixel of each image was determined by algae, runoff, and other factors. Dr. Kahru decided that Dr. Arrigo was right: The Arctic Ocean has become vastly more productive. Marcel Babin, an oceanographer at Universit\\u00c3\\u00a9 Laval in Quebec who was not involved in the new study, said that the researchers had done \\u00e2\\u0080\\u009cvery careful work\\u00e2\\u0080\\u009d that confirmed the earlier studies. \\u00e2\\u0080\\u009cIt\\u00e2\\u0080\\u0099s an important finding,\\u00e2\\u0080\\u009d he said. Not only is the Arctic Ocean producing more algae, but it\\u00e2\\u0080\\u0099s doing so sooner each year. \\u00e2\\u0080\\u009cThese blooms are coming earlier, sometimes two months earlier,\\u00e2\\u0080\\u009d Dr. Kahru said. In fact, the bloom may be coming even sooner than satellites can record. On research cruises, Dr. Arrigo and his colleagues have found that open water is no longer a requirement for algae to grow. The ice has gotten so thin that sunlight reaches through it. \\u00e2\\u0080\\u009cNow they\\u00e2\\u0080\\u0099re not even waiting for the ice to melt,\\u00e2\\u0080\\u009d said Dr. Arrigo said of algal organisms. If we stay on our current course, pouring more carbon dioxide into the atmosphere, the Arctic will only get warmer, perhaps becoming   in the summer. If algae can find more nitrogen and other nutrients in the ocean, its productivity may continue to rise. Scientists can\\u00e2\\u0080\\u0099t yet say what the ecological effects of this transformation will be. \\u00e2\\u0080\\u009cIt is probable it will have an impact on the whole food web,\\u00e2\\u0080\\u009d Dr. Babin said. Dr. Babin and his colleagues have been studying that impact over the past two summers on an expedition called the Green Edge Project, which has studied the ecology in Baffin Bay off the coast of northern Canada. They hope to present the first results of the survey next year. Some species may thrive because they can graze on the extra algae. But if the ecosystem comes to life earlier in the year, many species may be left behind. Fish larvae may not be able to develop fast enough. Migrating whales and birds may show up too late. A lot of the extra algae may drop to the sea floor by then, untouched. \\u00e2\\u0080\\u009cIt\\u00e2\\u0080\\u0099s going to be a different Arctic unless we turn things around,\\u00e2\\u0080\\u009d said Dr. Arrigo.\",\n          \"When Kyle Schwartz started teaching third grade at Doull Elementary School in Denver, she wanted to get to know her students better. She asked them to finish the sentence \\u00e2\\u0080\\u009cI wish my teacher knew. \\u00e2\\u0080\\u009d The responses were   for Ms. Schwartz. Some children were struggling with poverty (\\u00e2\\u0080\\u009cI wish my teacher knew I don\\u00e2\\u0080\\u0099t have pencils at home to do my homework\\u00e2\\u0080\\u009d) an absent parent (\\u00e2\\u0080\\u009cI wish my teacher knew that sometimes my reading log is not signed because my mom isn\\u00e2\\u0080\\u0099t around a lot\\u00e2\\u0080\\u009d) and a parent taken away (\\u00e2\\u0080\\u009cI wish my teacher knew how much I miss my dad because he got deported to Mexico when I was 3 years old and I haven\\u00e2\\u0080\\u0099t seen him in six years\\u00e2\\u0080\\u009d). The lesson spurred Ms. Schwartz, now entering her fifth teaching year, to really understand what her students were facing outside the classroom to help them succeed at school. When she shared the lesson last year with others, it became a sensation, with the Twitter hashtag \\u00e2\\u0080\\u009c#iwishmyteacherknew\\u00e2\\u0080\\u009d going viral. Other teachers tried the exercise and had similar insights. Many sent her their students\\u00e2\\u0080\\u0099 responses. In her recently published book, \\u00e2\\u0080\\u009cI Wish My Teacher Knew: How One Question Can Change Everything For Our Kids,\\u00e2\\u0080\\u009d Ms. Schwartz details how essential it is for teachers and families to be partners. \\u00e2\\u0080\\u009cI really want families to know how intentional teachers are about creating a sense of community and creating relationships with kids,\\u00e2\\u0080\\u009d Ms. Schwartz said. \\u00e2\\u0080\\u009cKids don\\u00e2\\u0080\\u0099t learn when they don\\u00e2\\u0080\\u0099t feel safe or valued. \\u00e2\\u0080\\u009d Melody Molinoff of Washington, D. C. who has two sons, ages 9 and 11, in the public school system, agreed. \\u00e2\\u0080\\u009cParents see the teacher as their partner in bringing up their child, and that\\u00e2\\u0080\\u0099s a huge responsibility that we are putting on our teachers and our schools,\\u00e2\\u0080\\u009d Ms. Molinoff said. \\u00e2\\u0080\\u009cI always want my sons\\u00e2\\u0080\\u0099 teachers to know what their challenges are, what they like, just more about them. \\u00e2\\u0080\\u009d Mary Clayman, a   teacher in the Washington public schools, said she has noticed the same thing from the other side of the desk. \\u00e2\\u0080\\u009cI\\u00e2\\u0080\\u0099ve taught over 500 kids so far in my career and parents in every grade want to know how their child is doing socially and emotionally, often times more so than whether they can multiply or divide quite yet,\\u00e2\\u0080\\u009d Mrs. Clayman said. In her book, Ms. Schwartz writes about mistakes that might have been prevented if she had known her students better. She had a student named Chris who was obsessed with science. Ms. Schwartz thought she had done Chris a huge favor by securing a spot for him in a   summer camp. But she was unaware of the family\\u00e2\\u0080\\u0099s financial struggles and it turned out that his parents could not afford to take time off from work to get Chris to camp. Ms. Schwartz said classrooms can become a supportive environment for students coping with grief. She suggests that schools have \\u00e2\\u0080\\u009cgrief and loss\\u00e2\\u0080\\u009d inventories for students who have gone through a crisis, with input from families so that the child\\u00e2\\u0080\\u0099s future teachers know what that student is dealing with. \\u00e2\\u0080\\u009cAs teachers, we know parents are the first and best teachers for their children and we want them to work with us,\\u00e2\\u0080\\u009d she said.\",\n          \"The U. S. Commission on Civil Rights says it is launching a   \\u00e2\\u0080\\u009ccomprehensive assessment\\u00e2\\u0080\\u009d into the Trump administration, in light of proposed budget cuts and staff eliminations that it says will cause the civil rights of people of color, the LGBT community, and other \\u00e2\\u0080\\u009cmarginalized\\u00e2\\u0080\\u009d groups to be at risk. [Americans deserve better.  This civil rights rollback is dangerous for all of us.  https:  .   \\u00e2\\u0080\\u0094   Catherine E. Lhamon (@CatherineLhamon) June 15, 2017,   According to a press release, the commission, which was created in 1957 as an independent agency that advises Congress and the president on civil rights matters, unanimously approved the investigation. The press statement says the commission is especially concerned with what it perceives as the Department of Justice \\u00e2\\u0080\\u009cminimizing its civil rights efforts\\u00e2\\u0080\\u009d by placing ICE officers in courthouses and by not emphasizing the need for protection for the LGBT community or the disabled. In the Department of Education, the commission says the proposed budget and staffing cuts in the Office for Civil Rights will affect those filing complaints based on sex, race, and other specially protected class categories. Proposed staffing and budget cuts, and mergers of various offices in the Departments of Labor, Housing and Urban Development, Health and Human Services will all have a negative impact on the federal government\\u00e2\\u0080\\u0099s job to monitor civil rights compliance efforts, says the commission. The investigation is launched as   ProPublica released an internal memo  \\u00e2\\u0080\\u0094   sent by Acting Assistant Secretary for Civil Rights Candice Jackson  \\u00e2\\u0080\\u0094   it says it \\u00e2\\u0080\\u009cobtained\\u00e2\\u0080\\u009d that suggests \\u00e2\\u0080\\u009cthe Department of Education has laid out plans to loosen requirements on investigations into civil rights complaints. \\u00e2\\u0080\\u009d ProPublica says: Under the Obama administration, the department\\u00e2\\u0080\\u0099s office for civil rights applied an expansive approach to investigations. Individual complaints related to complex issues such as school discipline, sexual violence and harassment, equal access to educational resources, or racism at a single school might have prompted broader probes to determine whether the allegations were part of a pattern of discrimination or harassment. The new memo, sent by Candice Jackson, the acting assistant secretary for civil rights, to regional directors at the department\\u00e2\\u0080\\u0099s civil rights office, trims this approach. Breitbart News reported in April ProPublica\\u00e2\\u0080\\u0099s concern that Jackson \\u00e2\\u0080\\u009conce complained that she experienced discrimination because she is white. \\u00e2\\u0080\\u009d When an undergraduate at Stanford University, Jackson was critical of an extra help section of a class held solely for minority students. \\u00e2\\u0080\\u009cI am especially disappointed that the University encourages these and other discriminatory programs,\\u00e2\\u0080\\u009d she wrote at Stanford Review. \\u00e2\\u0080\\u009cWe need to allow each person to define his or her own achievements instead of assuming competence or incompetence based on race. \\u00e2\\u0080\\u009d So grateful to hear today from @EByard @MaraKeisling @rea_carey. @MaraKeisling summarized: \\u00e2\\u0080\\u009dwe are the storm raining down justice\\u00e2\\u0080\\u009d https:  .   \\u00e2\\u0080\\u0094   Catherine E. Lhamon (@CatherineLhamon) June 16, 2017,  However, Vanita Gupta, the former acting head of the DOJ\\u00e2\\u0080\\u0099s civil rights division under Obama, said, \\u00e2\\u0080\\u009cAt best, this administration believes that civil rights enforcement is superfluous and can be easily cut. At worst, it really is part of a systematic agenda to roll back civil rights. \\u00e2\\u0080\\u009d In an emailed statement to ProPublica, Elizabeth Hill, press secretary for the U. S. Education Department, said the new \\u00e2\\u0080\\u009cenforcement instructions seek to clear out the backlog while giving every complaint the individualized and thorough consideration it deserves. \\u00e2\\u0080\\u009d The commission is composed of eight commissioners. Four are appointed by the president and four by Congress. The commissioners serve   terms and are not confirmed by the Senate. Currently, four members of the commission are Democrats, three are independents, and one is a Republican. The four presidential appointees were all selected by former President Barack Obama. \\u00e2\\u0080\\u009cFor 60 years, Congress has charged the Commission to monitor Federal civil rights enforcement and recommend necessary change,\\u00e2\\u0080\\u009d says commission chairwoman Catherine E. Lhamon, an Obama appointee. \\u00e2\\u0080\\u009cWe take this charge seriously, and we look forward to reporting our findings to Congress, the President, and the American people. \\u00e2\\u0080\\u009d\"\n        ],\n        \"semantic_type\": \"\",\n        \"description\": \"\"\n      }\n    },\n    {\n      \"column\": \"label\",\n      \"properties\": {\n        \"dtype\": \"category\",\n        \"num_unique_values\": 5,\n        \"samples\": [\n          \"0\",\n          \"\\u00e2\\u0080\\u009d but if you\\u00e2\\u0080\\u0099d allow me to offer some humble suggestions: \",\n          \" 2016 \"\n        ],\n        \"semantic_type\": \"\",\n        \"description\": \"\"\n      }\n    }\n  ]\n}"
            }
          },
          "metadata": {},
          "execution_count": 62
        }
      ]
    },
    {
      "cell_type": "code",
      "metadata": {
        "colab": {
          "base_uri": "https://localhost:8080/",
          "height": 241
        },
        "id": "QYkDi4SwxlKi",
        "outputId": "2d13ed94-07c3-469b-f5a8-0263df5ce3eb"
      },
      "source": [
        "# veri kümesindeki eksik değerlerin sayısını sayma\n",
        "news_dataset.isnull().sum()"
      ],
      "execution_count": 63,
      "outputs": [
        {
          "output_type": "execute_result",
          "data": {
            "text/plain": [
              "id           0\n",
              "title      930\n",
              "author    3254\n",
              "text        90\n",
              "label       34\n",
              "dtype: int64"
            ],
            "text/html": [
              "<div>\n",
              "<style scoped>\n",
              "    .dataframe tbody tr th:only-of-type {\n",
              "        vertical-align: middle;\n",
              "    }\n",
              "\n",
              "    .dataframe tbody tr th {\n",
              "        vertical-align: top;\n",
              "    }\n",
              "\n",
              "    .dataframe thead th {\n",
              "        text-align: right;\n",
              "    }\n",
              "</style>\n",
              "<table border=\"1\" class=\"dataframe\">\n",
              "  <thead>\n",
              "    <tr style=\"text-align: right;\">\n",
              "      <th></th>\n",
              "      <th>0</th>\n",
              "    </tr>\n",
              "  </thead>\n",
              "  <tbody>\n",
              "    <tr>\n",
              "      <th>id</th>\n",
              "      <td>0</td>\n",
              "    </tr>\n",
              "    <tr>\n",
              "      <th>title</th>\n",
              "      <td>930</td>\n",
              "    </tr>\n",
              "    <tr>\n",
              "      <th>author</th>\n",
              "      <td>3254</td>\n",
              "    </tr>\n",
              "    <tr>\n",
              "      <th>text</th>\n",
              "      <td>90</td>\n",
              "    </tr>\n",
              "    <tr>\n",
              "      <th>label</th>\n",
              "      <td>34</td>\n",
              "    </tr>\n",
              "  </tbody>\n",
              "</table>\n",
              "</div><br><label><b>dtype:</b> int64</label>"
            ]
          },
          "metadata": {},
          "execution_count": 63
        }
      ]
    },
    {
      "cell_type": "code",
      "metadata": {
        "id": "Mc04lQrhx57m"
      },
      "source": [
        "#  null değerleri boş dize ile değiştirme\n",
        "news_dataset = news_dataset.fillna('')"
      ],
      "execution_count": 64,
      "outputs": []
    },
    {
      "cell_type": "code",
      "source": [
        "news_dataset.head()"
      ],
      "metadata": {
        "collapsed": true,
        "colab": {
          "base_uri": "https://localhost:8080/",
          "height": 1000
        },
        "id": "kH4RvxMUGoja",
        "outputId": "ca8c1b26-de55-4ef6-908a-3553e24cab8c"
      },
      "execution_count": 33,
      "outputs": [
        {
          "output_type": "execute_result",
          "data": {
            "text/plain": [
              "                                                                                                                                                    id  \\\n",
              "0                                                House Dem Aide: We Didnât Even See Comeyâs ...                                      Darrell Lucus   \n",
              "With apologies to Keith Olbermann                 there is no doubt who the Worst Person in The ...   it looks like we also know who the second-wor...   \n",
              "As we now know                                    Comey notified the Republican chairmen and Dem...                                          Judiciary   \n",
              "â Jason Chaffetz (@jasoninthehouse) October 28  2016                                                                                                   \n",
              "Of course                                         we now know that this was not the case . Comey...   and possibly an entire termâs worth of them...   \n",
              "\n",
              "                                                                                                                                                 title  \\\n",
              "0                                                House Dem Aide: We Didnât Even See Comeyâs ...  \"House Dem Aide: We Didnât Even See Comeyâ...   \n",
              "With apologies to Keith Olbermann                 there is no doubt who the Worst Person in The ...   the ranking Democrats on the relevant committ...   \n",
              "As we now know                                    Comey notified the Republican chairmen and Dem...   and Oversight committees that his agency was ...   \n",
              "â Jason Chaffetz (@jasoninthehouse) October 28  2016                                                                                                   \n",
              "Of course                                         we now know that this was not the case . Comey...                                                      \n",
              "\n",
              "                                                                                                                                                author  \\\n",
              "0                                                House Dem Aide: We Didnât Even See Comeyâs ...   2016 Subscribe Jason Chaffetz on the stump in...   \n",
              "With apologies to Keith Olbermann                 there is no doubt who the Worst Person in The ...                                                      \n",
              "As we now know                                    Comey notified the Republican chairmen and Dem...   Oversight Committee Chairman Jason Chaffetz s...   \n",
              "â Jason Chaffetz (@jasoninthehouse) October 28  2016                                                                                                   \n",
              "Of course                                         we now know that this was not the case . Comey...                                                      \n",
              "\n",
              "                                                                                                                                                  text  \\\n",
              "0                                                House Dem Aide: We Didnât Even See Comeyâs ...               Utah ( image courtesy Michael Jolley   \n",
              "With apologies to Keith Olbermann                 there is no doubt who the Worst Person in The ...                                                      \n",
              "As we now know                                    Comey notified the Republican chairmen and Dem...   \"\"The FBI has learned of the existence of ema...   \n",
              "â Jason Chaffetz (@jasoninthehouse) October 28  2016                                                                                                   \n",
              "Of course                                         we now know that this was not the case . Comey...                                                      \n",
              "\n",
              "                                                                                                                                                label  \n",
              "0                                                House Dem Aide: We Didnât Even See Comeyâs ...   available under a Creative Commons-BY license)   \n",
              "With apologies to Keith Olbermann                 there is no doubt who the Worst Person in The ...                                                    \n",
              "As we now know                                    Comey notified the Republican chairmen and Dem...                                                    \n",
              "â Jason Chaffetz (@jasoninthehouse) October 28  2016                                                                                                 \n",
              "Of course                                         we now know that this was not the case . Comey...                                                    "
            ],
            "text/html": [
              "\n",
              "  <div id=\"df-662e4020-6c1b-4d57-89c0-b2feedec1a88\" class=\"colab-df-container\">\n",
              "    <div>\n",
              "<style scoped>\n",
              "    .dataframe tbody tr th:only-of-type {\n",
              "        vertical-align: middle;\n",
              "    }\n",
              "\n",
              "    .dataframe tbody tr th {\n",
              "        vertical-align: top;\n",
              "    }\n",
              "\n",
              "    .dataframe thead th {\n",
              "        text-align: right;\n",
              "    }\n",
              "</style>\n",
              "<table border=\"1\" class=\"dataframe\">\n",
              "  <thead>\n",
              "    <tr style=\"text-align: right;\">\n",
              "      <th></th>\n",
              "      <th></th>\n",
              "      <th>id</th>\n",
              "      <th>title</th>\n",
              "      <th>author</th>\n",
              "      <th>text</th>\n",
              "      <th>label</th>\n",
              "    </tr>\n",
              "  </thead>\n",
              "  <tbody>\n",
              "    <tr>\n",
              "      <th>0</th>\n",
              "      <th>House Dem Aide: We Didnât Even See Comeyâs Letter Until Jason Chaffetz Tweeted It</th>\n",
              "      <td>Darrell Lucus</td>\n",
              "      <td>\"House Dem Aide: We Didnât Even See Comeyâ...</td>\n",
              "      <td>2016 Subscribe Jason Chaffetz on the stump in...</td>\n",
              "      <td>Utah ( image courtesy Michael Jolley</td>\n",
              "      <td>available under a Creative Commons-BY license)</td>\n",
              "    </tr>\n",
              "    <tr>\n",
              "      <th>With apologies to Keith Olbermann</th>\n",
              "      <th>there is no doubt who the Worst Person in The World is this weekâFBI Director James Comey. But according to a House Democratic aide</th>\n",
              "      <td>it looks like we also know who the second-wor...</td>\n",
              "      <td>the ranking Democrats on the relevant committ...</td>\n",
              "      <td></td>\n",
              "      <td></td>\n",
              "      <td></td>\n",
              "    </tr>\n",
              "    <tr>\n",
              "      <th>As we now know</th>\n",
              "      <th>Comey notified the Republican chairmen and Democratic ranking members of the House Intelligence</th>\n",
              "      <td>Judiciary</td>\n",
              "      <td>and Oversight committees that his agency was ...</td>\n",
              "      <td>Oversight Committee Chairman Jason Chaffetz s...</td>\n",
              "      <td>\"\"The FBI has learned of the existence of ema...</td>\n",
              "      <td></td>\n",
              "    </tr>\n",
              "    <tr>\n",
              "      <th>â Jason Chaffetz (@jasoninthehouse) October 28</th>\n",
              "      <th>2016</th>\n",
              "      <td></td>\n",
              "      <td></td>\n",
              "      <td></td>\n",
              "      <td></td>\n",
              "      <td></td>\n",
              "    </tr>\n",
              "    <tr>\n",
              "      <th>Of course</th>\n",
              "      <th>we now know that this was not the case . Comey was actually saying that it was reviewing the emails in light of âan unrelated caseââwhich we now know to be Anthony Weinerâs sexting with a teenager. But apparently such little things as facts didnât matter to Chaffetz. The Utah Republican had already vowed to initiate a raft of investigations if Hillary winsâat least two yearsâ worth</th>\n",
              "      <td>and possibly an entire termâs worth of them...</td>\n",
              "      <td></td>\n",
              "      <td></td>\n",
              "      <td></td>\n",
              "      <td></td>\n",
              "    </tr>\n",
              "  </tbody>\n",
              "</table>\n",
              "</div>\n",
              "    <div class=\"colab-df-buttons\">\n",
              "\n",
              "  <div class=\"colab-df-container\">\n",
              "    <button class=\"colab-df-convert\" onclick=\"convertToInteractive('df-662e4020-6c1b-4d57-89c0-b2feedec1a88')\"\n",
              "            title=\"Convert this dataframe to an interactive table.\"\n",
              "            style=\"display:none;\">\n",
              "\n",
              "  <svg xmlns=\"http://www.w3.org/2000/svg\" height=\"24px\" viewBox=\"0 -960 960 960\">\n",
              "    <path d=\"M120-120v-720h720v720H120Zm60-500h600v-160H180v160Zm220 220h160v-160H400v160Zm0 220h160v-160H400v160ZM180-400h160v-160H180v160Zm440 0h160v-160H620v160ZM180-180h160v-160H180v160Zm440 0h160v-160H620v160Z\"/>\n",
              "  </svg>\n",
              "    </button>\n",
              "\n",
              "  <style>\n",
              "    .colab-df-container {\n",
              "      display:flex;\n",
              "      gap: 12px;\n",
              "    }\n",
              "\n",
              "    .colab-df-convert {\n",
              "      background-color: #E8F0FE;\n",
              "      border: none;\n",
              "      border-radius: 50%;\n",
              "      cursor: pointer;\n",
              "      display: none;\n",
              "      fill: #1967D2;\n",
              "      height: 32px;\n",
              "      padding: 0 0 0 0;\n",
              "      width: 32px;\n",
              "    }\n",
              "\n",
              "    .colab-df-convert:hover {\n",
              "      background-color: #E2EBFA;\n",
              "      box-shadow: 0px 1px 2px rgba(60, 64, 67, 0.3), 0px 1px 3px 1px rgba(60, 64, 67, 0.15);\n",
              "      fill: #174EA6;\n",
              "    }\n",
              "\n",
              "    .colab-df-buttons div {\n",
              "      margin-bottom: 4px;\n",
              "    }\n",
              "\n",
              "    [theme=dark] .colab-df-convert {\n",
              "      background-color: #3B4455;\n",
              "      fill: #D2E3FC;\n",
              "    }\n",
              "\n",
              "    [theme=dark] .colab-df-convert:hover {\n",
              "      background-color: #434B5C;\n",
              "      box-shadow: 0px 1px 3px 1px rgba(0, 0, 0, 0.15);\n",
              "      filter: drop-shadow(0px 1px 2px rgba(0, 0, 0, 0.3));\n",
              "      fill: #FFFFFF;\n",
              "    }\n",
              "  </style>\n",
              "\n",
              "    <script>\n",
              "      const buttonEl =\n",
              "        document.querySelector('#df-662e4020-6c1b-4d57-89c0-b2feedec1a88 button.colab-df-convert');\n",
              "      buttonEl.style.display =\n",
              "        google.colab.kernel.accessAllowed ? 'block' : 'none';\n",
              "\n",
              "      async function convertToInteractive(key) {\n",
              "        const element = document.querySelector('#df-662e4020-6c1b-4d57-89c0-b2feedec1a88');\n",
              "        const dataTable =\n",
              "          await google.colab.kernel.invokeFunction('convertToInteractive',\n",
              "                                                    [key], {});\n",
              "        if (!dataTable) return;\n",
              "\n",
              "        const docLinkHtml = 'Like what you see? Visit the ' +\n",
              "          '<a target=\"_blank\" href=https://colab.research.google.com/notebooks/data_table.ipynb>data table notebook</a>'\n",
              "          + ' to learn more about interactive tables.';\n",
              "        element.innerHTML = '';\n",
              "        dataTable['output_type'] = 'display_data';\n",
              "        await google.colab.output.renderOutput(dataTable, element);\n",
              "        const docLink = document.createElement('div');\n",
              "        docLink.innerHTML = docLinkHtml;\n",
              "        element.appendChild(docLink);\n",
              "      }\n",
              "    </script>\n",
              "  </div>\n",
              "\n",
              "\n",
              "<div id=\"df-b285a04f-f369-4bad-a989-add0429f6527\">\n",
              "  <button class=\"colab-df-quickchart\" onclick=\"quickchart('df-b285a04f-f369-4bad-a989-add0429f6527')\"\n",
              "            title=\"Suggest charts\"\n",
              "            style=\"display:none;\">\n",
              "\n",
              "<svg xmlns=\"http://www.w3.org/2000/svg\" height=\"24px\"viewBox=\"0 0 24 24\"\n",
              "     width=\"24px\">\n",
              "    <g>\n",
              "        <path d=\"M19 3H5c-1.1 0-2 .9-2 2v14c0 1.1.9 2 2 2h14c1.1 0 2-.9 2-2V5c0-1.1-.9-2-2-2zM9 17H7v-7h2v7zm4 0h-2V7h2v10zm4 0h-2v-4h2v4z\"/>\n",
              "    </g>\n",
              "</svg>\n",
              "  </button>\n",
              "\n",
              "<style>\n",
              "  .colab-df-quickchart {\n",
              "      --bg-color: #E8F0FE;\n",
              "      --fill-color: #1967D2;\n",
              "      --hover-bg-color: #E2EBFA;\n",
              "      --hover-fill-color: #174EA6;\n",
              "      --disabled-fill-color: #AAA;\n",
              "      --disabled-bg-color: #DDD;\n",
              "  }\n",
              "\n",
              "  [theme=dark] .colab-df-quickchart {\n",
              "      --bg-color: #3B4455;\n",
              "      --fill-color: #D2E3FC;\n",
              "      --hover-bg-color: #434B5C;\n",
              "      --hover-fill-color: #FFFFFF;\n",
              "      --disabled-bg-color: #3B4455;\n",
              "      --disabled-fill-color: #666;\n",
              "  }\n",
              "\n",
              "  .colab-df-quickchart {\n",
              "    background-color: var(--bg-color);\n",
              "    border: none;\n",
              "    border-radius: 50%;\n",
              "    cursor: pointer;\n",
              "    display: none;\n",
              "    fill: var(--fill-color);\n",
              "    height: 32px;\n",
              "    padding: 0;\n",
              "    width: 32px;\n",
              "  }\n",
              "\n",
              "  .colab-df-quickchart:hover {\n",
              "    background-color: var(--hover-bg-color);\n",
              "    box-shadow: 0 1px 2px rgba(60, 64, 67, 0.3), 0 1px 3px 1px rgba(60, 64, 67, 0.15);\n",
              "    fill: var(--button-hover-fill-color);\n",
              "  }\n",
              "\n",
              "  .colab-df-quickchart-complete:disabled,\n",
              "  .colab-df-quickchart-complete:disabled:hover {\n",
              "    background-color: var(--disabled-bg-color);\n",
              "    fill: var(--disabled-fill-color);\n",
              "    box-shadow: none;\n",
              "  }\n",
              "\n",
              "  .colab-df-spinner {\n",
              "    border: 2px solid var(--fill-color);\n",
              "    border-color: transparent;\n",
              "    border-bottom-color: var(--fill-color);\n",
              "    animation:\n",
              "      spin 1s steps(1) infinite;\n",
              "  }\n",
              "\n",
              "  @keyframes spin {\n",
              "    0% {\n",
              "      border-color: transparent;\n",
              "      border-bottom-color: var(--fill-color);\n",
              "      border-left-color: var(--fill-color);\n",
              "    }\n",
              "    20% {\n",
              "      border-color: transparent;\n",
              "      border-left-color: var(--fill-color);\n",
              "      border-top-color: var(--fill-color);\n",
              "    }\n",
              "    30% {\n",
              "      border-color: transparent;\n",
              "      border-left-color: var(--fill-color);\n",
              "      border-top-color: var(--fill-color);\n",
              "      border-right-color: var(--fill-color);\n",
              "    }\n",
              "    40% {\n",
              "      border-color: transparent;\n",
              "      border-right-color: var(--fill-color);\n",
              "      border-top-color: var(--fill-color);\n",
              "    }\n",
              "    60% {\n",
              "      border-color: transparent;\n",
              "      border-right-color: var(--fill-color);\n",
              "    }\n",
              "    80% {\n",
              "      border-color: transparent;\n",
              "      border-right-color: var(--fill-color);\n",
              "      border-bottom-color: var(--fill-color);\n",
              "    }\n",
              "    90% {\n",
              "      border-color: transparent;\n",
              "      border-bottom-color: var(--fill-color);\n",
              "    }\n",
              "  }\n",
              "</style>\n",
              "\n",
              "  <script>\n",
              "    async function quickchart(key) {\n",
              "      const quickchartButtonEl =\n",
              "        document.querySelector('#' + key + ' button');\n",
              "      quickchartButtonEl.disabled = true;  // To prevent multiple clicks.\n",
              "      quickchartButtonEl.classList.add('colab-df-spinner');\n",
              "      try {\n",
              "        const charts = await google.colab.kernel.invokeFunction(\n",
              "            'suggestCharts', [key], {});\n",
              "      } catch (error) {\n",
              "        console.error('Error during call to suggestCharts:', error);\n",
              "      }\n",
              "      quickchartButtonEl.classList.remove('colab-df-spinner');\n",
              "      quickchartButtonEl.classList.add('colab-df-quickchart-complete');\n",
              "    }\n",
              "    (() => {\n",
              "      let quickchartButtonEl =\n",
              "        document.querySelector('#df-b285a04f-f369-4bad-a989-add0429f6527 button');\n",
              "      quickchartButtonEl.style.display =\n",
              "        google.colab.kernel.accessAllowed ? 'block' : 'none';\n",
              "    })();\n",
              "  </script>\n",
              "</div>\n",
              "\n",
              "    </div>\n",
              "  </div>\n"
            ],
            "application/vnd.google.colaboratory.intrinsic+json": {
              "type": "dataframe",
              "variable_name": "news_dataset"
            }
          },
          "metadata": {},
          "execution_count": 33
        }
      ]
    },
    {
      "cell_type": "code",
      "metadata": {
        "id": "H7TZgHszygxj"
      },
      "source": [
        "# yazar adı ve haber başlığının birleştirilmesi\n",
        "news_dataset['content'] = news_dataset['author']+' '+news_dataset['title']"
      ],
      "execution_count": 65,
      "outputs": []
    },
    {
      "cell_type": "code",
      "metadata": {
        "colab": {
          "base_uri": "https://localhost:8080/"
        },
        "id": "cbF6GBBpzBey",
        "outputId": "12a7fdc8-1ea4-4442-e4ab-45182dd5cb6a"
      },
      "source": [
        "print(news_dataset['content'])"
      ],
      "execution_count": 66,
      "outputs": [
        {
          "output_type": "stream",
          "name": "stdout",
          "text": [
            "0        Darrell Lucus House Dem Aide: We Didnât Even...\n",
            "1        Daniel J. Flynn FLYNN: Hillary Clinton, Big Wo...\n",
            "2        Consortiumnews.com Why the Truth Might Get You...\n",
            "3        Jessica Purkiss 15 Civilians Killed In Single ...\n",
            "4        Howard Portnoy Iranian woman jailed for fictio...\n",
            "                               ...                        \n",
            "34529    Jerome Hudson Rapper T.I.: Trump a âPoster C...\n",
            "34530    Benjamin Hoffman N.F.L. Playoffs: Schedule, Ma...\n",
            "34531    Michael J. de la Merced and Rachel Abrams Macy...\n",
            "34532    Alex Ansary NATO, Russia To Hold Parallel Exer...\n",
            "34533              David Swanson What Keeps the F-35 Alive\n",
            "Name: content, Length: 34534, dtype: object\n"
          ]
        }
      ]
    },
    {
      "cell_type": "code",
      "metadata": {
        "id": "LfBtAvLtzEo6"
      },
      "source": [
        "# # veri ve etiketi ayırma\n",
        "X = news_dataset.drop(columns='label', axis=1)\n",
        "Y = news_dataset['label']"
      ],
      "execution_count": 67,
      "outputs": []
    },
    {
      "cell_type": "code",
      "metadata": {
        "colab": {
          "base_uri": "https://localhost:8080/"
        },
        "id": "oHPBr540zl1h",
        "outputId": "055fa6d8-d9ba-41aa-d642-86d16af385bb"
      },
      "source": [
        "print(Y)\n",
        "print(X)"
      ],
      "execution_count": 69,
      "outputs": [
        {
          "output_type": "stream",
          "name": "stdout",
          "text": [
            "0        1\n",
            "1        0\n",
            "2        1\n",
            "3        1\n",
            "4        1\n",
            "        ..\n",
            "34529    0\n",
            "34530    0\n",
            "34531    0\n",
            "34532    1\n",
            "34533    1\n",
            "Name: label, Length: 34534, dtype: object\n",
            "          id                                              title  \\\n",
            "0          0  House Dem Aide: We Didnât Even See Comeyâs...   \n",
            "1          1  FLYNN: Hillary Clinton, Big Woman on Campus - ...   \n",
            "2          2                  Why the Truth Might Get You Fired   \n",
            "3          3  15 Civilians Killed In Single US Airstrike Hav...   \n",
            "4          4  Iranian woman jailed for fictional unpublished...   \n",
            "...      ...                                                ...   \n",
            "34529  20795  Rapper T.I.: Trump a âPoster Child For White...   \n",
            "34530  20796  N.F.L. Playoffs: Schedule, Matchups and Odds -...   \n",
            "34531  20797  Macyâs Is Said to Receive Takeover Approach ...   \n",
            "34532  20798  NATO, Russia To Hold Parallel Exercises In Bal...   \n",
            "34533  20799                          What Keeps the F-35 Alive   \n",
            "\n",
            "                                          author  \\\n",
            "0                                  Darrell Lucus   \n",
            "1                                Daniel J. Flynn   \n",
            "2                             Consortiumnews.com   \n",
            "3                                Jessica Purkiss   \n",
            "4                                 Howard Portnoy   \n",
            "...                                          ...   \n",
            "34529                              Jerome Hudson   \n",
            "34530                           Benjamin Hoffman   \n",
            "34531  Michael J. de la Merced and Rachel Abrams   \n",
            "34532                                Alex Ansary   \n",
            "34533                              David Swanson   \n",
            "\n",
            "                                                    text  \\\n",
            "0      House Dem Aide: We Didnât Even See Comeyâs...   \n",
            "1      Ever get the feeling your life circles the rou...   \n",
            "2      Why the Truth Might Get You Fired October 29, ...   \n",
            "3      Videos 15 Civilians Killed In Single US Airstr...   \n",
            "4      Print \\nAn Iranian woman has been sentenced to...   \n",
            "...                                                  ...   \n",
            "34529  Rapper T. I. unloaded on black celebrities who...   \n",
            "34530  When the Green Bay Packers lost to the Washing...   \n",
            "34531  The Macyâs of today grew from the union of s...   \n",
            "34532  NATO, Russia To Hold Parallel Exercises In Bal...   \n",
            "34533    David Swanson is an author, activist, journa...   \n",
            "\n",
            "                                                 content  \n",
            "0      Darrell Lucus House Dem Aide: We Didnât Even...  \n",
            "1      Daniel J. Flynn FLYNN: Hillary Clinton, Big Wo...  \n",
            "2      Consortiumnews.com Why the Truth Might Get You...  \n",
            "3      Jessica Purkiss 15 Civilians Killed In Single ...  \n",
            "4      Howard Portnoy Iranian woman jailed for fictio...  \n",
            "...                                                  ...  \n",
            "34529  Jerome Hudson Rapper T.I.: Trump a âPoster C...  \n",
            "34530  Benjamin Hoffman N.F.L. Playoffs: Schedule, Ma...  \n",
            "34531  Michael J. de la Merced and Rachel Abrams Macy...  \n",
            "34532  Alex Ansary NATO, Russia To Hold Parallel Exer...  \n",
            "34533            David Swanson What Keeps the F-35 Alive  \n",
            "\n",
            "[34534 rows x 5 columns]\n"
          ]
        }
      ]
    },
    {
      "cell_type": "markdown",
      "source": [],
      "metadata": {
        "id": "Hg0xjN_wHKwB"
      }
    },
    {
      "cell_type": "markdown",
      "metadata": {
        "id": "0NwFcpqcz37a"
      },
      "source": [
        "Köklendirme:\n",
        "\n",
        "Stemming, bir kelimeyi Kök kelimesine indirgeme işlemidir\n",
        "\n",
        "örnek: aktör, aktris, oyunculuk --> act"
      ]
    },
    {
      "cell_type": "code",
      "metadata": {
        "id": "Ga_DaZxhzoWM"
      },
      "source": [
        "port_stem = PorterStemmer()"
      ],
      "execution_count": 70,
      "outputs": []
    },
    {
      "cell_type": "markdown",
      "source": [
        "Fonksiyonun Çalışma Mantığı\n",
        "Temizleme (re.sub):\n",
        "\n",
        "re.sub('[^a-zA-Z]', ' ', content): Metindeki yalnızca harfleri korur, diğer tüm karakterleri boşlukla değiştirir.\n",
        "Bu adım, metni yalnızca harf karakterleri içerecek şekilde temizler. Sayılar, noktalama işaretleri gibi karakterler kaldırılır.\n",
        "Küçük Harfe Çevirme (lower):\n",
        "\n",
        "stemmed_content.lower(): Metindeki tüm harfleri küçük harfe dönüştürür.\n",
        "Bu, büyük/küçük harf farkını ortadan kaldırarak işlemlerin tutarlılığını sağlar.\n",
        "Kelimeye Bölme (split):\n",
        "\n",
        "stemmed_content.split(): Metni kelimelerine böler ve her bir kelimeyi bir listeye koyar.\n",
        "Bu adımda, metin artık kelimeler listesi haline gelir.\n",
        "Kök Bulma (stemming):\n",
        "\n",
        "port_stem.stem(word): Her kelimenin kökünü bulur. port_stem bir PorterStemmer nesnesidir.\n",
        "if not word in stopwords.words('english'): İngilizce'deki yaygın durak (stop) kelimeleri çıkarır (örneğin \"the\", \"is\", \"and\").\n",
        "Bu adım, kelimeleri en basit hallerine indirger (örneğin, \"running\" → \"run\").\n",
        "Birleştirme (join):\n",
        "\n",
        "' '.join(stemmed_content): Köklenmiş kelimeleri tekrar bir araya getirir ve tek bir metin haline getirir.\n",
        "Bu adım sonunda, işlemlerden geçmiş ve köklenmiş kelimelerle oluşturulmuş yeni bir metin elde edilir.\n"
      ],
      "metadata": {
        "id": "-BB3zz-TIVBY"
      }
    },
    {
      "cell_type": "code",
      "metadata": {
        "id": "zY-n0dCh0e-y"
      },
      "source": [
        "def stemming(content):\n",
        "    stemmed_content = re.sub('[^a-zA-Z]',' ',content)\n",
        "    stemmed_content = stemmed_content.lower()\n",
        "    stemmed_content = stemmed_content.split()\n",
        "    stemmed_content = [port_stem.stem(word) for word in stemmed_content if not word in stopwords.words('english')]\n",
        "    stemmed_content = ' '.join(stemmed_content)\n",
        "    return stemmed_content"
      ],
      "execution_count": 71,
      "outputs": []
    },
    {
      "cell_type": "code",
      "metadata": {
        "id": "MBUIk4c94yTL"
      },
      "source": [
        "news_dataset['content'] = news_dataset['content'].apply(stemming)"
      ],
      "execution_count": 72,
      "outputs": []
    },
    {
      "cell_type": "code",
      "metadata": {
        "colab": {
          "base_uri": "https://localhost:8080/"
        },
        "id": "xmwK-zyO5Stg",
        "outputId": "53f7382c-2326-4ce3-f582-14b64d43c6dc"
      },
      "source": [
        "print(news_dataset['content'])"
      ],
      "execution_count": 81,
      "outputs": [
        {
          "output_type": "stream",
          "name": "stdout",
          "text": [
            "0        darrel lucu hous dem aid even see comey letter...\n",
            "1        daniel j flynn flynn hillari clinton big woman...\n",
            "2                   consortiumnew com truth might get fire\n",
            "3        jessica purkiss civilian kill singl us airstri...\n",
            "4        howard portnoy iranian woman jail fiction unpu...\n",
            "                               ...                        \n",
            "34529    jerom hudson rapper trump poster child white s...\n",
            "34530    benjamin hoffman n f l playoff schedul matchup...\n",
            "34531    michael j de la merc rachel abram maci said re...\n",
            "34532    alex ansari nato russia hold parallel exercis ...\n",
            "34533                            david swanson keep f aliv\n",
            "Name: content, Length: 34534, dtype: object\n"
          ]
        }
      ]
    },
    {
      "cell_type": "code",
      "metadata": {
        "id": "5ZIidnta5k5h"
      },
      "source": [
        "#verileri ve etiketi ayırma\n",
        "X = news_dataset['content'].values\n",
        "Y = news_dataset['label'].values"
      ],
      "execution_count": 82,
      "outputs": []
    },
    {
      "cell_type": "code",
      "metadata": {
        "colab": {
          "base_uri": "https://localhost:8080/"
        },
        "id": "3nA_SBZX6BeH",
        "outputId": "26d95dfb-c2e1-410f-855c-dc591337ebce"
      },
      "source": [
        "print(X)"
      ],
      "execution_count": 83,
      "outputs": [
        {
          "output_type": "stream",
          "name": "stdout",
          "text": [
            "['darrel lucu hous dem aid even see comey letter jason chaffetz tweet'\n",
            " 'daniel j flynn flynn hillari clinton big woman campu breitbart'\n",
            " 'consortiumnew com truth might get fire' ...\n",
            " 'michael j de la merc rachel abram maci said receiv takeov approach hudson bay new york time'\n",
            " 'alex ansari nato russia hold parallel exercis balkan'\n",
            " 'david swanson keep f aliv']\n"
          ]
        }
      ]
    },
    {
      "cell_type": "code",
      "metadata": {
        "colab": {
          "base_uri": "https://localhost:8080/"
        },
        "id": "NgkFGXkg6HS4",
        "outputId": "59b2bd57-7e19-4416-8dec-afd8e4e0b487"
      },
      "source": [
        "print(Y)"
      ],
      "execution_count": 84,
      "outputs": [
        {
          "output_type": "stream",
          "name": "stdout",
          "text": [
            "['1' '0' '1' ... '0' '1' '1']\n"
          ]
        }
      ]
    },
    {
      "cell_type": "code",
      "metadata": {
        "colab": {
          "base_uri": "https://localhost:8080/"
        },
        "id": "Iu2ZEBkL6QTm",
        "outputId": "3c7269be-8a80-4105-8218-12bdd99f5763"
      },
      "source": [
        "Y.shape"
      ],
      "execution_count": 85,
      "outputs": [
        {
          "output_type": "execute_result",
          "data": {
            "text/plain": [
              "(34534,)"
            ]
          },
          "metadata": {},
          "execution_count": 85
        }
      ]
    },
    {
      "cell_type": "code",
      "metadata": {
        "id": "BMfepsQZ6TES"
      },
      "source": [
        "# # metinsel verileri sayısal verilere dönüştürme\n",
        "vectorizer = TfidfVectorizer()\n",
        "vectorizer.fit(X)\n",
        "\n",
        "X = vectorizer.transform(X)"
      ],
      "execution_count": 86,
      "outputs": []
    },
    {
      "cell_type": "code",
      "metadata": {
        "colab": {
          "base_uri": "https://localhost:8080/"
        },
        "id": "MJj5esbs7Nzy",
        "outputId": "8dc65aba-40e4-4cd1-a58c-1c1167934db5"
      },
      "source": [
        "print(X)"
      ],
      "execution_count": 87,
      "outputs": [
        {
          "output_type": "stream",
          "name": "stdout",
          "text": [
            "  (0, 15706)\t0.28455523794195114\n",
            "  (0, 13490)\t0.25521446694382066\n",
            "  (0, 8920)\t0.37003336476394333\n",
            "  (0, 8641)\t0.29058386028917865\n",
            "  (0, 7703)\t0.24660109621251788\n",
            "  (0, 7012)\t0.2178760420310972\n",
            "  (0, 4977)\t0.23222751670272004\n",
            "  (0, 3794)\t0.27063475013300203\n",
            "  (0, 3602)\t0.36473523585594847\n",
            "  (0, 2961)\t0.2462965640730307\n",
            "  (0, 2483)\t0.3623157324977447\n",
            "  (0, 267)\t0.2685309738578144\n",
            "  (1, 16823)\t0.3031127497822591\n",
            "  (1, 6823)\t0.19062444529015957\n",
            "  (1, 5509)\t0.7131569798778061\n",
            "  (1, 3570)\t0.2621182973871198\n",
            "  (1, 2815)\t0.19110653098410563\n",
            "  (1, 2223)\t0.38282831679867374\n",
            "  (1, 1894)\t0.15583395530167127\n",
            "  (1, 1497)\t0.29516546893404155\n",
            "  (2, 15631)\t0.41434683446335924\n",
            "  (2, 9633)\t0.4924308462108994\n",
            "  (2, 5974)\t0.34864310213419314\n",
            "  (2, 5395)\t0.387306866507998\n",
            "  (2, 3105)\t0.4616424218263026\n",
            "  :\t:\n",
            "  (34531, 13139)\t0.24298931090938686\n",
            "  (34531, 12361)\t0.2726027609874116\n",
            "  (34531, 12155)\t0.24794938945362588\n",
            "  (34531, 10319)\t0.08054951950593627\n",
            "  (34531, 9601)\t0.17482499493139575\n",
            "  (34531, 9530)\t0.2963123920505312\n",
            "  (34531, 8999)\t0.3604771932320695\n",
            "  (34531, 8375)\t0.22165850943308954\n",
            "  (34531, 7049)\t0.21794213976037397\n",
            "  (34531, 3645)\t0.2103997819237217\n",
            "  (34531, 1287)\t0.3400332056783663\n",
            "  (34531, 699)\t0.3065644291780034\n",
            "  (34531, 43)\t0.2963123920505312\n",
            "  (34532, 13063)\t0.22288736085606584\n",
            "  (34532, 11066)\t0.45161348718555316\n",
            "  (34532, 10190)\t0.31426544354166985\n",
            "  (34532, 6896)\t0.3233839434175318\n",
            "  (34532, 5037)\t0.4067334630444836\n",
            "  (34532, 1125)\t0.45161348718555316\n",
            "  (34532, 588)\t0.3082512889966131\n",
            "  (34532, 350)\t0.2803940615667149\n",
            "  (34533, 14870)\t0.5699848042136205\n",
            "  (34533, 8047)\t0.46092941919587405\n",
            "  (34533, 3625)\t0.37938593543158083\n",
            "  (34533, 377)\t0.5645597448295613\n"
          ]
        }
      ]
    },
    {
      "cell_type": "markdown",
      "metadata": {
        "id": "mKBRGiSQ7YCZ"
      },
      "source": [
        "Splitting the dataset to training & test data"
      ]
    },
    {
      "cell_type": "code",
      "metadata": {
        "id": "VjMYwmBo7Pbx"
      },
      "source": [
        "X_train, X_test, Y_train, Y_test = train_test_split(X, Y, test_size = 0.2, random_state=2)"
      ],
      "execution_count": 109,
      "outputs": []
    },
    {
      "cell_type": "markdown",
      "metadata": {
        "id": "rxDsQvgO8Oln"
      },
      "source": [
        "Training the Model: Logistic Regression"
      ]
    },
    {
      "cell_type": "code",
      "metadata": {
        "id": "HrSItcqc7qAy"
      },
      "source": [
        "model = LogisticRegression()"
      ],
      "execution_count": 110,
      "outputs": []
    },
    {
      "cell_type": "code",
      "metadata": {
        "colab": {
          "base_uri": "https://localhost:8080/",
          "height": 214
        },
        "id": "fdVJ839l8Vgx",
        "outputId": "2c5d4070-db49-4e59-85bb-52528693c4cb"
      },
      "source": [
        "model.fit(X_train, Y_train)"
      ],
      "execution_count": 111,
      "outputs": [
        {
          "output_type": "stream",
          "name": "stderr",
          "text": [
            "/usr/local/lib/python3.10/dist-packages/sklearn/linear_model/_logistic.py:460: ConvergenceWarning: lbfgs failed to converge (status=1):\n",
            "STOP: TOTAL NO. of ITERATIONS REACHED LIMIT.\n",
            "\n",
            "Increase the number of iterations (max_iter) or scale the data as shown in:\n",
            "    https://scikit-learn.org/stable/modules/preprocessing.html\n",
            "Please also refer to the documentation for alternative solver options:\n",
            "    https://scikit-learn.org/stable/modules/linear_model.html#logistic-regression\n",
            "  n_iter_i = _check_optimize_result(\n"
          ]
        },
        {
          "output_type": "execute_result",
          "data": {
            "text/plain": [
              "LogisticRegression()"
            ],
            "text/html": [
              "<style>#sk-container-id-2 {color: black;}#sk-container-id-2 pre{padding: 0;}#sk-container-id-2 div.sk-toggleable {background-color: white;}#sk-container-id-2 label.sk-toggleable__label {cursor: pointer;display: block;width: 100%;margin-bottom: 0;padding: 0.3em;box-sizing: border-box;text-align: center;}#sk-container-id-2 label.sk-toggleable__label-arrow:before {content: \"▸\";float: left;margin-right: 0.25em;color: #696969;}#sk-container-id-2 label.sk-toggleable__label-arrow:hover:before {color: black;}#sk-container-id-2 div.sk-estimator:hover label.sk-toggleable__label-arrow:before {color: black;}#sk-container-id-2 div.sk-toggleable__content {max-height: 0;max-width: 0;overflow: hidden;text-align: left;background-color: #f0f8ff;}#sk-container-id-2 div.sk-toggleable__content pre {margin: 0.2em;color: black;border-radius: 0.25em;background-color: #f0f8ff;}#sk-container-id-2 input.sk-toggleable__control:checked~div.sk-toggleable__content {max-height: 200px;max-width: 100%;overflow: auto;}#sk-container-id-2 input.sk-toggleable__control:checked~label.sk-toggleable__label-arrow:before {content: \"▾\";}#sk-container-id-2 div.sk-estimator input.sk-toggleable__control:checked~label.sk-toggleable__label {background-color: #d4ebff;}#sk-container-id-2 div.sk-label input.sk-toggleable__control:checked~label.sk-toggleable__label {background-color: #d4ebff;}#sk-container-id-2 input.sk-hidden--visually {border: 0;clip: rect(1px 1px 1px 1px);clip: rect(1px, 1px, 1px, 1px);height: 1px;margin: -1px;overflow: hidden;padding: 0;position: absolute;width: 1px;}#sk-container-id-2 div.sk-estimator {font-family: monospace;background-color: #f0f8ff;border: 1px dotted black;border-radius: 0.25em;box-sizing: border-box;margin-bottom: 0.5em;}#sk-container-id-2 div.sk-estimator:hover {background-color: #d4ebff;}#sk-container-id-2 div.sk-parallel-item::after {content: \"\";width: 100%;border-bottom: 1px solid gray;flex-grow: 1;}#sk-container-id-2 div.sk-label:hover label.sk-toggleable__label {background-color: #d4ebff;}#sk-container-id-2 div.sk-serial::before {content: \"\";position: absolute;border-left: 1px solid gray;box-sizing: border-box;top: 0;bottom: 0;left: 50%;z-index: 0;}#sk-container-id-2 div.sk-serial {display: flex;flex-direction: column;align-items: center;background-color: white;padding-right: 0.2em;padding-left: 0.2em;position: relative;}#sk-container-id-2 div.sk-item {position: relative;z-index: 1;}#sk-container-id-2 div.sk-parallel {display: flex;align-items: stretch;justify-content: center;background-color: white;position: relative;}#sk-container-id-2 div.sk-item::before, #sk-container-id-2 div.sk-parallel-item::before {content: \"\";position: absolute;border-left: 1px solid gray;box-sizing: border-box;top: 0;bottom: 0;left: 50%;z-index: -1;}#sk-container-id-2 div.sk-parallel-item {display: flex;flex-direction: column;z-index: 1;position: relative;background-color: white;}#sk-container-id-2 div.sk-parallel-item:first-child::after {align-self: flex-end;width: 50%;}#sk-container-id-2 div.sk-parallel-item:last-child::after {align-self: flex-start;width: 50%;}#sk-container-id-2 div.sk-parallel-item:only-child::after {width: 0;}#sk-container-id-2 div.sk-dashed-wrapped {border: 1px dashed gray;margin: 0 0.4em 0.5em 0.4em;box-sizing: border-box;padding-bottom: 0.4em;background-color: white;}#sk-container-id-2 div.sk-label label {font-family: monospace;font-weight: bold;display: inline-block;line-height: 1.2em;}#sk-container-id-2 div.sk-label-container {text-align: center;}#sk-container-id-2 div.sk-container {/* jupyter's `normalize.less` sets `[hidden] { display: none; }` but bootstrap.min.css set `[hidden] { display: none !important; }` so we also need the `!important` here to be able to override the default hidden behavior on the sphinx rendered scikit-learn.org. See: https://github.com/scikit-learn/scikit-learn/issues/21755 */display: inline-block !important;position: relative;}#sk-container-id-2 div.sk-text-repr-fallback {display: none;}</style><div id=\"sk-container-id-2\" class=\"sk-top-container\"><div class=\"sk-text-repr-fallback\"><pre>LogisticRegression()</pre><b>In a Jupyter environment, please rerun this cell to show the HTML representation or trust the notebook. <br />On GitHub, the HTML representation is unable to render, please try loading this page with nbviewer.org.</b></div><div class=\"sk-container\" hidden><div class=\"sk-item\"><div class=\"sk-estimator sk-toggleable\"><input class=\"sk-toggleable__control sk-hidden--visually\" id=\"sk-estimator-id-2\" type=\"checkbox\" checked><label for=\"sk-estimator-id-2\" class=\"sk-toggleable__label sk-toggleable__label-arrow\">LogisticRegression</label><div class=\"sk-toggleable__content\"><pre>LogisticRegression()</pre></div></div></div></div></div>"
            ]
          },
          "metadata": {},
          "execution_count": 111
        }
      ]
    },
    {
      "cell_type": "markdown",
      "metadata": {
        "id": "sbPKIFT89W1C"
      },
      "source": [
        "Evaluation"
      ]
    },
    {
      "cell_type": "markdown",
      "metadata": {
        "id": "YG6gqVty9ZDB"
      },
      "source": [
        "accuracy score"
      ]
    },
    {
      "cell_type": "code",
      "source": [],
      "metadata": {
        "id": "-FK3pNOWR53j"
      },
      "execution_count": null,
      "outputs": []
    },
    {
      "cell_type": "code",
      "metadata": {
        "id": "VgwtWZY59PBw"
      },
      "source": [
        "# eğitim verileri üzerinde doğruluk puanı\n",
        "X_train_prediction = model.predict(X_train)\n",
        "training_data_accuracy = accuracy_score(X_train_prediction, Y_train)"
      ],
      "execution_count": 112,
      "outputs": []
    },
    {
      "cell_type": "code",
      "metadata": {
        "colab": {
          "base_uri": "https://localhost:8080/"
        },
        "id": "4L-r5mld-BFn",
        "outputId": "4478c505-0d77-4be1-ab4a-ac344cb30cc6"
      },
      "source": [
        "print(' eğitim verileri üzerinde doğruluk puanı : ', training_data_accuracy)"
      ],
      "execution_count": 172,
      "outputs": [
        {
          "output_type": "stream",
          "name": "stdout",
          "text": [
            " eğitim verileri üzerinde doğruluk puanı :  0.9929416874796395\n"
          ]
        }
      ]
    },
    {
      "cell_type": "code",
      "metadata": {
        "id": "Kgcn13oO-H6e"
      },
      "source": [
        "#  test verileri üzerinde doğruluk puanı\n",
        "X_test_prediction = model.predict(X_test)\n",
        "test_data_accuracy = accuracy_score(X_test_prediction, Y_test)"
      ],
      "execution_count": 114,
      "outputs": []
    },
    {
      "cell_type": "code",
      "metadata": {
        "colab": {
          "base_uri": "https://localhost:8080/"
        },
        "id": "9TG0Yof1-vg2",
        "outputId": "7739feca-4517-4757-9f1f-17cd69af112e"
      },
      "source": [
        "print(' eğitim verileri üzerinde doğruluk puanı : ', test_data_accuracy)"
      ],
      "execution_count": 173,
      "outputs": [
        {
          "output_type": "stream",
          "name": "stdout",
          "text": [
            " eğitim verileri üzerinde doğruluk puanı :  0.9907340379325322\n"
          ]
        }
      ]
    },
    {
      "cell_type": "markdown",
      "metadata": {
        "id": "Yun4seaE-6tV"
      },
      "source": [
        "Making a Predictive System"
      ]
    },
    {
      "cell_type": "code",
      "metadata": {
        "colab": {
          "base_uri": "https://localhost:8080/"
        },
        "id": "lPjssDL_-zo8",
        "outputId": "73d939dc-a6ee-46f8-fbe2-238a5a8b3be2"
      },
      "source": [
        "# Tek bir örneği modelin tahmin fonksiyonuna uygun formatta yeniden şekillendirin\n",
        "X_new = X_test[12]  # Tek örnek\n",
        "\n",
        "# Model tahmini yapın\n",
        "prediction = model.predict(X_new)  # Tek örneği liste içine koyarak tahmin yapın\n",
        "\n",
        "print(prediction)  # Tahmin sonucunu kontrol edin\n",
        "\n",
        "# Tahmin sonucunu kontrol edin\n",
        "if prediction[0] == 0:\n",
        "    print('The news is Fake')\n",
        "else:\n",
        "    print('The news is Real')"
      ],
      "execution_count": 174,
      "outputs": [
        {
          "output_type": "stream",
          "name": "stdout",
          "text": [
            "['0']\n",
            "The news is Real\n"
          ]
        }
      ]
    },
    {
      "cell_type": "code",
      "metadata": {
        "colab": {
          "base_uri": "https://localhost:8080/"
        },
        "id": "8KaWdvDI_eUk",
        "outputId": "d32a540c-17c9-4ffd-9199-6e695d7564be"
      },
      "source": [
        "print(Y_test[12])"
      ],
      "execution_count": 177,
      "outputs": [
        {
          "output_type": "stream",
          "name": "stdout",
          "text": [
            "0\n"
          ]
        }
      ]
    },
    {
      "cell_type": "code",
      "source": [],
      "metadata": {
        "id": "gfF6iLGHOzwp"
      },
      "execution_count": null,
      "outputs": []
    }
  ]
}