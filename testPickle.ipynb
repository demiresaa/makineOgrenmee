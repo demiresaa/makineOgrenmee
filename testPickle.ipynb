{
 "cells": [
  {
   "cell_type": "code",
   "execution_count": 1,
   "id": "bb6e5b15-4c83-4e9c-a818-0fbe7b9c135f",
   "metadata": {},
   "outputs": [],
   "source": [
    "import numpy as np\n",
    "import pandas as pd"
   ]
  },
  {
   "cell_type": "code",
   "execution_count": 2,
   "id": "2f2ebeab-22da-487c-9a7c-b4eebafd3558",
   "metadata": {},
   "outputs": [],
   "source": [
    "from sklearn import linear_model"
   ]
  },
  {
   "cell_type": "code",
   "execution_count": 4,
   "id": "5bfb0a84-af89-40c5-84e8-7da558b661cc",
   "metadata": {},
   "outputs": [
    {
     "name": "stderr",
     "output_type": "stream",
     "text": [
      "C:\\Users\\Dell\\anaconda3\\Lib\\site-packages\\sklearn\\base.py:493: UserWarning: X does not have valid feature names, but LinearRegression was fitted with feature names\n",
      "  warnings.warn(\n"
     ]
    },
    {
     "data": {
      "text/plain": [
       "array([6575163.0924624])"
      ]
     },
     "execution_count": 4,
     "metadata": {},
     "output_type": "execute_result"
    }
   ],
   "source": [
    "import pickle\n",
    "mymodel=pickle.load(open(\"fiyatTahmin.pickle\",\"rb\"))\n",
    "mymodel.predict([[245,5,15]])"
   ]
  },
  {
   "cell_type": "code",
   "execution_count": 6,
   "id": "d1c616a6-fc5e-4e24-bbc5-2eb239b70d39",
   "metadata": {},
   "outputs": [],
   "source": [
    "# burada pickle kütüphanesi kullanrak pc ye kayıt ettiğimiz modeli \n",
    "#kullanarak başka bir notebookda çalıştırdık tekrar mdoel eğitmek zorunda kalmadık"
   ]
  },
  {
   "cell_type": "code",
   "execution_count": null,
   "id": "b8ebdee2-883a-408d-9df9-01635f61e2bf",
   "metadata": {},
   "outputs": [],
   "source": []
  }
 ],
 "metadata": {
  "kernelspec": {
   "display_name": "Python 3 (ipykernel)",
   "language": "python",
   "name": "python3"
  },
  "language_info": {
   "codemirror_mode": {
    "name": "ipython",
    "version": 3
   },
   "file_extension": ".py",
   "mimetype": "text/x-python",
   "name": "python",
   "nbconvert_exporter": "python",
   "pygments_lexer": "ipython3",
   "version": "3.11.5"
  }
 },
 "nbformat": 4,
 "nbformat_minor": 5
}
