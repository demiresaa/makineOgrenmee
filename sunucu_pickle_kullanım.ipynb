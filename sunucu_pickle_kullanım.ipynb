{
 "cells": [
  {
   "cell_type": "code",
   "execution_count": 1,
   "id": "dff7bdb8-bc8e-4503-b71c-298962d427e0",
   "metadata": {},
   "outputs": [],
   "source": [
    "import pickle"
   ]
  },
  {
   "cell_type": "code",
   "execution_count": 2,
   "id": "54e15394-ac7a-4cc6-a14d-470e37bbe04e",
   "metadata": {},
   "outputs": [],
   "source": [
    "import numpy as np"
   ]
  },
  {
   "cell_type": "code",
   "execution_count": 6,
   "id": "8c62a133-982a-4697-9840-1a63b7f56e66",
   "metadata": {},
   "outputs": [],
   "source": [
    "deneme=pickle.load(open(\"knnmodel.pickle\",\"rb\"))\n",
    "scaler=pickle.load(open(\"sc.pickle\",\"rb\"))"
   ]
  },
  {
   "cell_type": "code",
   "execution_count": 8,
   "id": "61af6379-ac26-4d73-abc7-3b9f48294e2c",
   "metadata": {},
   "outputs": [],
   "source": [
    "yeni=deneme.predict(scaler.transform(np.array([[1,85,65,30,0,25,0.200,20]])))"
   ]
  },
  {
   "cell_type": "code",
   "execution_count": 9,
   "id": "12e8f286-3dfb-4f62-bfe3-6e073328375a",
   "metadata": {},
   "outputs": [
    {
     "data": {
      "text/plain": [
       "0"
      ]
     },
     "execution_count": 9,
     "metadata": {},
     "output_type": "execute_result"
    }
   ],
   "source": [
    "yeni[0]"
   ]
  },
  {
   "cell_type": "code",
   "execution_count": null,
   "id": "3b849ed2-4219-494f-aa62-07898b8d3155",
   "metadata": {},
   "outputs": [],
   "source": []
  },
  {
   "cell_type": "code",
   "execution_count": null,
   "id": "e0dcd779-cc6e-4be8-a68a-d1b0faf6a106",
   "metadata": {},
   "outputs": [],
   "source": []
  },
  {
   "cell_type": "code",
   "execution_count": null,
   "id": "399dc561-7d9b-44eb-b7eb-45875698643b",
   "metadata": {},
   "outputs": [],
   "source": []
  }
 ],
 "metadata": {
  "kernelspec": {
   "display_name": "Python 3 (ipykernel)",
   "language": "python",
   "name": "python3"
  },
  "language_info": {
   "codemirror_mode": {
    "name": "ipython",
    "version": 3
   },
   "file_extension": ".py",
   "mimetype": "text/x-python",
   "name": "python",
   "nbconvert_exporter": "python",
   "pygments_lexer": "ipython3",
   "version": "3.11.5"
  }
 },
 "nbformat": 4,
 "nbformat_minor": 5
}
