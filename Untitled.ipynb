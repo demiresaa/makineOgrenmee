{
 "cells": [
  {
   "cell_type": "code",
   "execution_count": 1,
   "id": "552965d7-850d-4b86-959e-5a6b8f63011e",
   "metadata": {},
   "outputs": [
    {
     "name": "stdout",
     "output_type": "stream",
     "text": [
      " * Serving Flask app '__main__'\n",
      " * Debug mode: on\n"
     ]
    },
    {
     "name": "stderr",
     "output_type": "stream",
     "text": [
      "WARNING: This is a development server. Do not use it in a production deployment. Use a production WSGI server instead.\n",
      " * Running on http://127.0.0.1:5000\n",
      "Press CTRL+C to quit\n",
      " * Restarting with watchdog (windowsapi)\n"
     ]
    },
    {
     "ename": "SystemExit",
     "evalue": "1",
     "output_type": "error",
     "traceback": [
      "An exception has occurred, use %tb to see the full traceback.\n",
      "\u001b[1;31mSystemExit\u001b[0m\u001b[1;31m:\u001b[0m 1\n"
     ]
    },
    {
     "name": "stderr",
     "output_type": "stream",
     "text": [
      "C:\\Users\\Dell\\anaconda3\\Lib\\site-packages\\IPython\\core\\interactiveshell.py:3585: UserWarning: To exit: use 'exit', 'quit', or Ctrl-D.\n",
      "  warn(\"To exit: use 'exit', 'quit', or Ctrl-D.\", stacklevel=1)\n"
     ]
    }
   ],
   "source": [
    "from flask import Flask, request, jsonify\n",
    "import pickle\n",
    "import numpy as np\n",
    "\n",
    "# Load the model and scaler\n",
    "deneme = pickle.load(open(\"knnmodel.pickle\", \"rb\"))\n",
    "scaler = pickle.load(open(\"sc.pickle\", \"rb\"))\n",
    "\n",
    "app = Flask(__name__)\n",
    "\n",
    "@app.route(\"/diyabet_tahmin\", methods=[\"POST\"])\n",
    "def diyabet_tahmin():\n",
    "    try:\n",
    "        # Extract data from the request\n",
    "        request_data = request.get_json(force=True)\n",
    "        pregnancies = request_data.get(\"pregnancies\")\n",
    "        glucose = request_data.get(\"glucose\")\n",
    "        bloodPressure = request_data.get(\"bloodPressure\")\n",
    "        skinThickness = request_data.get(\"skinThickness\")\n",
    "        insulin = request_data.get(\"insulin\")\n",
    "        bmi = request_data.get(\"bmi\")\n",
    "        diabetesPedigreeFunction = request_data.get(\"diabetesPedigreeFunction\")\n",
    "        age = request_data.get(\"age\")\n",
    "\n",
    "        # Ensure all necessary data is present\n",
    "        if None in [pregnancies, glucose, bloodPressure, skinThickness, insulin, bmi, diabetesPedigreeFunction, age]:\n",
    "            return jsonify({\"error\": \"Missing data\"}), 400\n",
    "\n",
    "        # Prepare data for prediction\n",
    "        input_data = np.array([[pregnancies, glucose, bloodPressure, skinThickness, insulin, bmi, diabetesPedigreeFunction, age]])\n",
    "        scaled_data = scaler.transform(input_data)\n",
    "        prediction = deneme.predict(scaled_data)\n",
    "\n",
    "        return jsonify({\"tahmin\": int(prediction[0])})\n",
    "    except Exception as e:\n",
    "        return jsonify({\"error\": str(e)}), 500\n",
    "\n",
    "if __name__ == \"__main__\":\n",
    "    app.run(port=5000, debug=True)\n"
   ]
  },
  {
   "cell_type": "code",
   "execution_count": null,
   "id": "b5844326-50e5-4550-838f-96379892ffa0",
   "metadata": {},
   "outputs": [],
   "source": []
  },
  {
   "cell_type": "code",
   "execution_count": null,
   "id": "23bd31a1-6455-4648-82c8-81248ed7fb02",
   "metadata": {},
   "outputs": [],
   "source": []
  },
  {
   "cell_type": "code",
   "execution_count": null,
   "id": "0c71c7c4-dece-4840-a74f-ab93a0aab09c",
   "metadata": {},
   "outputs": [],
   "source": []
  }
 ],
 "metadata": {
  "kernelspec": {
   "display_name": "Python 3 (ipykernel)",
   "language": "python",
   "name": "python3"
  },
  "language_info": {
   "codemirror_mode": {
    "name": "ipython",
    "version": 3
   },
   "file_extension": ".py",
   "mimetype": "text/x-python",
   "name": "python",
   "nbconvert_exporter": "python",
   "pygments_lexer": "ipython3",
   "version": "3.11.5"
  }
 },
 "nbformat": 4,
 "nbformat_minor": 5
}
