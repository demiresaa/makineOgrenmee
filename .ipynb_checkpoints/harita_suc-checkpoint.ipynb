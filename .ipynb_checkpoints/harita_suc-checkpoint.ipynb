{
 "cells": [
  {
   "cell_type": "code",
   "execution_count": 1,
   "id": "208ed9cd-f2da-427a-aa47-a1244b58ce16",
   "metadata": {},
   "outputs": [],
   "source": [
    "import pandas as pd\n",
    "import numpy as np\n",
    "from sklearn.preprocessing import MinMaxScaler"
   ]
  },
  {
   "cell_type": "code",
   "execution_count": 2,
   "id": "31533dff-b2bd-4c09-8f47-f7f699b32b33",
   "metadata": {},
   "outputs": [],
   "source": [
    "from  sklearn.cluster import KMeans"
   ]
  },
  {
   "cell_type": "code",
   "execution_count": 3,
   "id": "d305148b-d7da-4d49-beb4-c82b38cae89a",
   "metadata": {
    "scrolled": true
   },
   "outputs": [
    {
     "name": "stdout",
     "output_type": "stream",
     "text": [
      "Requirement already satisfied: plotly in c:\\users\\dell\\anaconda3\\lib\\site-packages (5.23.0)\n",
      "Requirement already satisfied: tenacity>=6.2.0 in c:\\users\\dell\\anaconda3\\lib\\site-packages (from plotly) (9.0.0)\n",
      "Requirement already satisfied: packaging in c:\\users\\dell\\anaconda3\\lib\\site-packages (from plotly) (24.1)\n",
      "Note: you may need to restart the kernel to use updated packages.\n"
     ]
    }
   ],
   "source": [
    "pip install plotly"
   ]
  },
  {
   "cell_type": "code",
   "execution_count": 4,
   "id": "b7a760b9-ca96-43c8-ad35-a0ae64420200",
   "metadata": {},
   "outputs": [],
   "source": [
    "import pandas as pd\n",
    "data = pd.read_csv(\"C:/Users/Dell/Desktop/makineOgrenme/train_harita.csv\")\n"
   ]
  },
  {
   "cell_type": "code",
   "execution_count": 5,
   "id": "d102303f-e5cd-4696-a874-b7d31da27776",
   "metadata": {},
   "outputs": [
    {
     "data": {
      "text/html": [
       "<div>\n",
       "<style scoped>\n",
       "    .dataframe tbody tr th:only-of-type {\n",
       "        vertical-align: middle;\n",
       "    }\n",
       "\n",
       "    .dataframe tbody tr th {\n",
       "        vertical-align: top;\n",
       "    }\n",
       "\n",
       "    .dataframe thead th {\n",
       "        text-align: right;\n",
       "    }\n",
       "</style>\n",
       "<table border=\"1\" class=\"dataframe\">\n",
       "  <thead>\n",
       "    <tr style=\"text-align: right;\">\n",
       "      <th></th>\n",
       "      <th>Dates</th>\n",
       "      <th>Category</th>\n",
       "      <th>Descript</th>\n",
       "      <th>DayOfWeek</th>\n",
       "      <th>PdDistrict</th>\n",
       "      <th>Resolution</th>\n",
       "      <th>Address</th>\n",
       "      <th>X</th>\n",
       "      <th>Y</th>\n",
       "    </tr>\n",
       "  </thead>\n",
       "  <tbody>\n",
       "    <tr>\n",
       "      <th>0</th>\n",
       "      <td>2015-05-13 23:53:00</td>\n",
       "      <td>WARRANTS</td>\n",
       "      <td>WARRANT ARREST</td>\n",
       "      <td>Wednesday</td>\n",
       "      <td>NORTHERN</td>\n",
       "      <td>ARREST, BOOKED</td>\n",
       "      <td>OAK ST / LAGUNA ST</td>\n",
       "      <td>-122.425892</td>\n",
       "      <td>37.774599</td>\n",
       "    </tr>\n",
       "    <tr>\n",
       "      <th>1</th>\n",
       "      <td>2015-05-13 23:53:00</td>\n",
       "      <td>OTHER OFFENSES</td>\n",
       "      <td>TRAFFIC VIOLATION ARREST</td>\n",
       "      <td>Wednesday</td>\n",
       "      <td>NORTHERN</td>\n",
       "      <td>ARREST, BOOKED</td>\n",
       "      <td>OAK ST / LAGUNA ST</td>\n",
       "      <td>-122.425892</td>\n",
       "      <td>37.774599</td>\n",
       "    </tr>\n",
       "    <tr>\n",
       "      <th>2</th>\n",
       "      <td>2015-05-13 23:33:00</td>\n",
       "      <td>OTHER OFFENSES</td>\n",
       "      <td>TRAFFIC VIOLATION ARREST</td>\n",
       "      <td>Wednesday</td>\n",
       "      <td>NORTHERN</td>\n",
       "      <td>ARREST, BOOKED</td>\n",
       "      <td>VANNESS AV / GREENWICH ST</td>\n",
       "      <td>-122.424363</td>\n",
       "      <td>37.800414</td>\n",
       "    </tr>\n",
       "    <tr>\n",
       "      <th>3</th>\n",
       "      <td>2015-05-13 23:30:00</td>\n",
       "      <td>LARCENY/THEFT</td>\n",
       "      <td>GRAND THEFT FROM LOCKED AUTO</td>\n",
       "      <td>Wednesday</td>\n",
       "      <td>NORTHERN</td>\n",
       "      <td>NONE</td>\n",
       "      <td>1500 Block of LOMBARD ST</td>\n",
       "      <td>-122.426995</td>\n",
       "      <td>37.800873</td>\n",
       "    </tr>\n",
       "    <tr>\n",
       "      <th>4</th>\n",
       "      <td>2015-05-13 23:30:00</td>\n",
       "      <td>LARCENY/THEFT</td>\n",
       "      <td>GRAND THEFT FROM LOCKED AUTO</td>\n",
       "      <td>Wednesday</td>\n",
       "      <td>PARK</td>\n",
       "      <td>NONE</td>\n",
       "      <td>100 Block of BRODERICK ST</td>\n",
       "      <td>-122.438738</td>\n",
       "      <td>37.771541</td>\n",
       "    </tr>\n",
       "  </tbody>\n",
       "</table>\n",
       "</div>"
      ],
      "text/plain": [
       "                 Dates        Category                      Descript  \\\n",
       "0  2015-05-13 23:53:00        WARRANTS                WARRANT ARREST   \n",
       "1  2015-05-13 23:53:00  OTHER OFFENSES      TRAFFIC VIOLATION ARREST   \n",
       "2  2015-05-13 23:33:00  OTHER OFFENSES      TRAFFIC VIOLATION ARREST   \n",
       "3  2015-05-13 23:30:00   LARCENY/THEFT  GRAND THEFT FROM LOCKED AUTO   \n",
       "4  2015-05-13 23:30:00   LARCENY/THEFT  GRAND THEFT FROM LOCKED AUTO   \n",
       "\n",
       "   DayOfWeek PdDistrict      Resolution                    Address  \\\n",
       "0  Wednesday   NORTHERN  ARREST, BOOKED         OAK ST / LAGUNA ST   \n",
       "1  Wednesday   NORTHERN  ARREST, BOOKED         OAK ST / LAGUNA ST   \n",
       "2  Wednesday   NORTHERN  ARREST, BOOKED  VANNESS AV / GREENWICH ST   \n",
       "3  Wednesday   NORTHERN            NONE   1500 Block of LOMBARD ST   \n",
       "4  Wednesday       PARK            NONE  100 Block of BRODERICK ST   \n",
       "\n",
       "            X          Y  \n",
       "0 -122.425892  37.774599  \n",
       "1 -122.425892  37.774599  \n",
       "2 -122.424363  37.800414  \n",
       "3 -122.426995  37.800873  \n",
       "4 -122.438738  37.771541  "
      ]
     },
     "execution_count": 5,
     "metadata": {},
     "output_type": "execute_result"
    }
   ],
   "source": [
    "data.head()"
   ]
  },
  {
   "cell_type": "code",
   "execution_count": 6,
   "id": "f9b0d6ea-8c8e-49bf-854e-84b1fb91515a",
   "metadata": {},
   "outputs": [
    {
     "data": {
      "text/plain": [
       "Dates         0\n",
       "Category      0\n",
       "Descript      0\n",
       "DayOfWeek     0\n",
       "PdDistrict    0\n",
       "Resolution    0\n",
       "Address       0\n",
       "X             0\n",
       "Y             0\n",
       "dtype: int64"
      ]
     },
     "execution_count": 6,
     "metadata": {},
     "output_type": "execute_result"
    }
   ],
   "source": [
    "data.isnull().sum()"
   ]
  },
  {
   "cell_type": "code",
   "execution_count": 7,
   "id": "3985dd0f-d4d3-4626-9fa4-668fd8d1268a",
   "metadata": {},
   "outputs": [],
   "source": [
    "data=data.drop([\"Descript\",\"DayOfWeek\",\"PdDistrict\",\"Resolution\",\"Address\"],axis=1)"
   ]
  },
  {
   "cell_type": "code",
   "execution_count": 8,
   "id": "17c5307f-d8f4-4bfa-ab58-1353874c3977",
   "metadata": {},
   "outputs": [
    {
     "data": {
      "text/html": [
       "<div>\n",
       "<style scoped>\n",
       "    .dataframe tbody tr th:only-of-type {\n",
       "        vertical-align: middle;\n",
       "    }\n",
       "\n",
       "    .dataframe tbody tr th {\n",
       "        vertical-align: top;\n",
       "    }\n",
       "\n",
       "    .dataframe thead th {\n",
       "        text-align: right;\n",
       "    }\n",
       "</style>\n",
       "<table border=\"1\" class=\"dataframe\">\n",
       "  <thead>\n",
       "    <tr style=\"text-align: right;\">\n",
       "      <th></th>\n",
       "      <th>Dates</th>\n",
       "      <th>Category</th>\n",
       "      <th>X</th>\n",
       "      <th>Y</th>\n",
       "    </tr>\n",
       "  </thead>\n",
       "  <tbody>\n",
       "    <tr>\n",
       "      <th>0</th>\n",
       "      <td>2015-05-13 23:53:00</td>\n",
       "      <td>WARRANTS</td>\n",
       "      <td>-122.425892</td>\n",
       "      <td>37.774599</td>\n",
       "    </tr>\n",
       "    <tr>\n",
       "      <th>1</th>\n",
       "      <td>2015-05-13 23:53:00</td>\n",
       "      <td>OTHER OFFENSES</td>\n",
       "      <td>-122.425892</td>\n",
       "      <td>37.774599</td>\n",
       "    </tr>\n",
       "    <tr>\n",
       "      <th>2</th>\n",
       "      <td>2015-05-13 23:33:00</td>\n",
       "      <td>OTHER OFFENSES</td>\n",
       "      <td>-122.424363</td>\n",
       "      <td>37.800414</td>\n",
       "    </tr>\n",
       "    <tr>\n",
       "      <th>3</th>\n",
       "      <td>2015-05-13 23:30:00</td>\n",
       "      <td>LARCENY/THEFT</td>\n",
       "      <td>-122.426995</td>\n",
       "      <td>37.800873</td>\n",
       "    </tr>\n",
       "    <tr>\n",
       "      <th>4</th>\n",
       "      <td>2015-05-13 23:30:00</td>\n",
       "      <td>LARCENY/THEFT</td>\n",
       "      <td>-122.438738</td>\n",
       "      <td>37.771541</td>\n",
       "    </tr>\n",
       "  </tbody>\n",
       "</table>\n",
       "</div>"
      ],
      "text/plain": [
       "                 Dates        Category           X          Y\n",
       "0  2015-05-13 23:53:00        WARRANTS -122.425892  37.774599\n",
       "1  2015-05-13 23:53:00  OTHER OFFENSES -122.425892  37.774599\n",
       "2  2015-05-13 23:33:00  OTHER OFFENSES -122.424363  37.800414\n",
       "3  2015-05-13 23:30:00   LARCENY/THEFT -122.426995  37.800873\n",
       "4  2015-05-13 23:30:00   LARCENY/THEFT -122.438738  37.771541"
      ]
     },
     "execution_count": 8,
     "metadata": {},
     "output_type": "execute_result"
    }
   ],
   "source": [
    "data.head()"
   ]
  },
  {
   "cell_type": "code",
   "execution_count": 9,
   "id": "0601517c-75f5-4451-ab9b-48cc555149d6",
   "metadata": {},
   "outputs": [],
   "source": [
    "f=lambda x:(x[\"Dates\"].split(\"-\"))[0]\n",
    "data[\"Dates\"]=data.apply(f,axis=1)"
   ]
  },
  {
   "cell_type": "code",
   "execution_count": 10,
   "id": "cfa0f023-b2b5-4734-a15f-9b57120e8f53",
   "metadata": {},
   "outputs": [
    {
     "data": {
      "text/html": [
       "<div>\n",
       "<style scoped>\n",
       "    .dataframe tbody tr th:only-of-type {\n",
       "        vertical-align: middle;\n",
       "    }\n",
       "\n",
       "    .dataframe tbody tr th {\n",
       "        vertical-align: top;\n",
       "    }\n",
       "\n",
       "    .dataframe thead th {\n",
       "        text-align: right;\n",
       "    }\n",
       "</style>\n",
       "<table border=\"1\" class=\"dataframe\">\n",
       "  <thead>\n",
       "    <tr style=\"text-align: right;\">\n",
       "      <th></th>\n",
       "      <th>Dates</th>\n",
       "      <th>Category</th>\n",
       "      <th>X</th>\n",
       "      <th>Y</th>\n",
       "    </tr>\n",
       "  </thead>\n",
       "  <tbody>\n",
       "    <tr>\n",
       "      <th>0</th>\n",
       "      <td>2015</td>\n",
       "      <td>WARRANTS</td>\n",
       "      <td>-122.425892</td>\n",
       "      <td>37.774599</td>\n",
       "    </tr>\n",
       "    <tr>\n",
       "      <th>1</th>\n",
       "      <td>2015</td>\n",
       "      <td>OTHER OFFENSES</td>\n",
       "      <td>-122.425892</td>\n",
       "      <td>37.774599</td>\n",
       "    </tr>\n",
       "    <tr>\n",
       "      <th>2</th>\n",
       "      <td>2015</td>\n",
       "      <td>OTHER OFFENSES</td>\n",
       "      <td>-122.424363</td>\n",
       "      <td>37.800414</td>\n",
       "    </tr>\n",
       "    <tr>\n",
       "      <th>3</th>\n",
       "      <td>2015</td>\n",
       "      <td>LARCENY/THEFT</td>\n",
       "      <td>-122.426995</td>\n",
       "      <td>37.800873</td>\n",
       "    </tr>\n",
       "    <tr>\n",
       "      <th>4</th>\n",
       "      <td>2015</td>\n",
       "      <td>LARCENY/THEFT</td>\n",
       "      <td>-122.438738</td>\n",
       "      <td>37.771541</td>\n",
       "    </tr>\n",
       "  </tbody>\n",
       "</table>\n",
       "</div>"
      ],
      "text/plain": [
       "  Dates        Category           X          Y\n",
       "0  2015        WARRANTS -122.425892  37.774599\n",
       "1  2015  OTHER OFFENSES -122.425892  37.774599\n",
       "2  2015  OTHER OFFENSES -122.424363  37.800414\n",
       "3  2015   LARCENY/THEFT -122.426995  37.800873\n",
       "4  2015   LARCENY/THEFT -122.438738  37.771541"
      ]
     },
     "execution_count": 10,
     "metadata": {},
     "output_type": "execute_result"
    }
   ],
   "source": [
    "data.head()"
   ]
  },
  {
   "cell_type": "code",
   "execution_count": 11,
   "id": "4f2037df-91d3-4d32-9c03-09de2961abcb",
   "metadata": {},
   "outputs": [
    {
     "data": {
      "text/html": [
       "<div>\n",
       "<style scoped>\n",
       "    .dataframe tbody tr th:only-of-type {\n",
       "        vertical-align: middle;\n",
       "    }\n",
       "\n",
       "    .dataframe tbody tr th {\n",
       "        vertical-align: top;\n",
       "    }\n",
       "\n",
       "    .dataframe thead th {\n",
       "        text-align: right;\n",
       "    }\n",
       "</style>\n",
       "<table border=\"1\" class=\"dataframe\">\n",
       "  <thead>\n",
       "    <tr style=\"text-align: right;\">\n",
       "      <th></th>\n",
       "      <th>Dates</th>\n",
       "      <th>Category</th>\n",
       "      <th>X</th>\n",
       "      <th>Y</th>\n",
       "    </tr>\n",
       "  </thead>\n",
       "  <tbody>\n",
       "    <tr>\n",
       "      <th>27584</th>\n",
       "      <td>2014</td>\n",
       "      <td>LARCENY/THEFT</td>\n",
       "      <td>-122.435563</td>\n",
       "      <td>37.760801</td>\n",
       "    </tr>\n",
       "    <tr>\n",
       "      <th>27585</th>\n",
       "      <td>2014</td>\n",
       "      <td>LARCENY/THEFT</td>\n",
       "      <td>-122.433575</td>\n",
       "      <td>37.800037</td>\n",
       "    </tr>\n",
       "    <tr>\n",
       "      <th>27586</th>\n",
       "      <td>2014</td>\n",
       "      <td>VEHICLE THEFT</td>\n",
       "      <td>-122.412777</td>\n",
       "      <td>37.786834</td>\n",
       "    </tr>\n",
       "    <tr>\n",
       "      <th>27587</th>\n",
       "      <td>2014</td>\n",
       "      <td>ASSAULT</td>\n",
       "      <td>-122.421702</td>\n",
       "      <td>37.773641</td>\n",
       "    </tr>\n",
       "    <tr>\n",
       "      <th>27588</th>\n",
       "      <td>2014</td>\n",
       "      <td>ASSAULT</td>\n",
       "      <td>-122.421702</td>\n",
       "      <td>37.773641</td>\n",
       "    </tr>\n",
       "    <tr>\n",
       "      <th>...</th>\n",
       "      <td>...</td>\n",
       "      <td>...</td>\n",
       "      <td>...</td>\n",
       "      <td>...</td>\n",
       "    </tr>\n",
       "    <tr>\n",
       "      <th>102345</th>\n",
       "      <td>2014</td>\n",
       "      <td>OTHER OFFENSES</td>\n",
       "      <td>-122.387235</td>\n",
       "      <td>37.719401</td>\n",
       "    </tr>\n",
       "    <tr>\n",
       "      <th>102346</th>\n",
       "      <td>2014</td>\n",
       "      <td>WARRANTS</td>\n",
       "      <td>-122.387235</td>\n",
       "      <td>37.719401</td>\n",
       "    </tr>\n",
       "    <tr>\n",
       "      <th>102347</th>\n",
       "      <td>2014</td>\n",
       "      <td>FRAUD</td>\n",
       "      <td>-122.418382</td>\n",
       "      <td>37.783258</td>\n",
       "    </tr>\n",
       "    <tr>\n",
       "      <th>102348</th>\n",
       "      <td>2014</td>\n",
       "      <td>NON-CRIMINAL</td>\n",
       "      <td>-122.413652</td>\n",
       "      <td>37.728320</td>\n",
       "    </tr>\n",
       "    <tr>\n",
       "      <th>102349</th>\n",
       "      <td>2014</td>\n",
       "      <td>FRAUD</td>\n",
       "      <td>-122.408563</td>\n",
       "      <td>37.797007</td>\n",
       "    </tr>\n",
       "  </tbody>\n",
       "</table>\n",
       "<p>74766 rows × 4 columns</p>\n",
       "</div>"
      ],
      "text/plain": [
       "       Dates        Category           X          Y\n",
       "27584   2014   LARCENY/THEFT -122.435563  37.760801\n",
       "27585   2014   LARCENY/THEFT -122.433575  37.800037\n",
       "27586   2014   VEHICLE THEFT -122.412777  37.786834\n",
       "27587   2014         ASSAULT -122.421702  37.773641\n",
       "27588   2014         ASSAULT -122.421702  37.773641\n",
       "...      ...             ...         ...        ...\n",
       "102345  2014  OTHER OFFENSES -122.387235  37.719401\n",
       "102346  2014        WARRANTS -122.387235  37.719401\n",
       "102347  2014           FRAUD -122.418382  37.783258\n",
       "102348  2014    NON-CRIMINAL -122.413652  37.728320\n",
       "102349  2014           FRAUD -122.408563  37.797007\n",
       "\n",
       "[74766 rows x 4 columns]"
      ]
     },
     "execution_count": 11,
     "metadata": {},
     "output_type": "execute_result"
    }
   ],
   "source": [
    "data2014=data[(data.Dates==\"2014\")]\n",
    "data2014"
   ]
  },
  {
   "cell_type": "code",
   "execution_count": 12,
   "id": "99a251f9-2a7f-4b05-a00a-53742c45f557",
   "metadata": {},
   "outputs": [
    {
     "name": "stderr",
     "output_type": "stream",
     "text": [
      "C:\\Users\\Dell\\AppData\\Local\\Temp\\ipykernel_12508\\894123175.py:3: SettingWithCopyWarning: \n",
      "A value is trying to be set on a copy of a slice from a DataFrame.\n",
      "Try using .loc[row_indexer,col_indexer] = value instead\n",
      "\n",
      "See the caveats in the documentation: https://pandas.pydata.org/pandas-docs/stable/user_guide/indexing.html#returning-a-view-versus-a-copy\n",
      "  data2014[\"x_scaled\"]=sc.transform(data2014[[\"X\"]])\n"
     ]
    },
    {
     "data": {
      "text/html": [
       "<div>\n",
       "<style scoped>\n",
       "    .dataframe tbody tr th:only-of-type {\n",
       "        vertical-align: middle;\n",
       "    }\n",
       "\n",
       "    .dataframe tbody tr th {\n",
       "        vertical-align: top;\n",
       "    }\n",
       "\n",
       "    .dataframe thead th {\n",
       "        text-align: right;\n",
       "    }\n",
       "</style>\n",
       "<table border=\"1\" class=\"dataframe\">\n",
       "  <thead>\n",
       "    <tr style=\"text-align: right;\">\n",
       "      <th></th>\n",
       "      <th>Dates</th>\n",
       "      <th>Category</th>\n",
       "      <th>X</th>\n",
       "      <th>Y</th>\n",
       "      <th>x_scaled</th>\n",
       "    </tr>\n",
       "  </thead>\n",
       "  <tbody>\n",
       "    <tr>\n",
       "      <th>27584</th>\n",
       "      <td>2014</td>\n",
       "      <td>LARCENY/THEFT</td>\n",
       "      <td>-122.435563</td>\n",
       "      <td>37.760801</td>\n",
       "      <td>0.526134</td>\n",
       "    </tr>\n",
       "    <tr>\n",
       "      <th>27585</th>\n",
       "      <td>2014</td>\n",
       "      <td>LARCENY/THEFT</td>\n",
       "      <td>-122.433575</td>\n",
       "      <td>37.800037</td>\n",
       "      <td>0.539528</td>\n",
       "    </tr>\n",
       "    <tr>\n",
       "      <th>27586</th>\n",
       "      <td>2014</td>\n",
       "      <td>VEHICLE THEFT</td>\n",
       "      <td>-122.412777</td>\n",
       "      <td>37.786834</td>\n",
       "      <td>0.679676</td>\n",
       "    </tr>\n",
       "    <tr>\n",
       "      <th>27587</th>\n",
       "      <td>2014</td>\n",
       "      <td>ASSAULT</td>\n",
       "      <td>-122.421702</td>\n",
       "      <td>37.773641</td>\n",
       "      <td>0.619540</td>\n",
       "    </tr>\n",
       "    <tr>\n",
       "      <th>27588</th>\n",
       "      <td>2014</td>\n",
       "      <td>ASSAULT</td>\n",
       "      <td>-122.421702</td>\n",
       "      <td>37.773641</td>\n",
       "      <td>0.619540</td>\n",
       "    </tr>\n",
       "  </tbody>\n",
       "</table>\n",
       "</div>"
      ],
      "text/plain": [
       "      Dates       Category           X          Y  x_scaled\n",
       "27584  2014  LARCENY/THEFT -122.435563  37.760801  0.526134\n",
       "27585  2014  LARCENY/THEFT -122.433575  37.800037  0.539528\n",
       "27586  2014  VEHICLE THEFT -122.412777  37.786834  0.679676\n",
       "27587  2014        ASSAULT -122.421702  37.773641  0.619540\n",
       "27588  2014        ASSAULT -122.421702  37.773641  0.619540"
      ]
     },
     "execution_count": 12,
     "metadata": {},
     "output_type": "execute_result"
    }
   ],
   "source": [
    "sc=MinMaxScaler()\n",
    "sc.fit(data2014[[\"X\"]])\n",
    "data2014[\"x_scaled\"]=sc.transform(data2014[[\"X\"]])\n",
    "data2014.head()"
   ]
  },
  {
   "cell_type": "code",
   "execution_count": 13,
   "id": "952e0ad6-451c-45e7-aeb1-a4671ee41ea7",
   "metadata": {},
   "outputs": [
    {
     "name": "stderr",
     "output_type": "stream",
     "text": [
      "C:\\Users\\Dell\\AppData\\Local\\Temp\\ipykernel_12508\\1950805826.py:3: SettingWithCopyWarning: \n",
      "A value is trying to be set on a copy of a slice from a DataFrame.\n",
      "Try using .loc[row_indexer,col_indexer] = value instead\n",
      "\n",
      "See the caveats in the documentation: https://pandas.pydata.org/pandas-docs/stable/user_guide/indexing.html#returning-a-view-versus-a-copy\n",
      "  data2014[\"y_scaled\"]=sc.transform(data2014[[\"Y\"]])\n"
     ]
    },
    {
     "data": {
      "text/html": [
       "<div>\n",
       "<style scoped>\n",
       "    .dataframe tbody tr th:only-of-type {\n",
       "        vertical-align: middle;\n",
       "    }\n",
       "\n",
       "    .dataframe tbody tr th {\n",
       "        vertical-align: top;\n",
       "    }\n",
       "\n",
       "    .dataframe thead th {\n",
       "        text-align: right;\n",
       "    }\n",
       "</style>\n",
       "<table border=\"1\" class=\"dataframe\">\n",
       "  <thead>\n",
       "    <tr style=\"text-align: right;\">\n",
       "      <th></th>\n",
       "      <th>Dates</th>\n",
       "      <th>Category</th>\n",
       "      <th>X</th>\n",
       "      <th>Y</th>\n",
       "      <th>x_scaled</th>\n",
       "      <th>y_scaled</th>\n",
       "    </tr>\n",
       "  </thead>\n",
       "  <tbody>\n",
       "    <tr>\n",
       "      <th>27584</th>\n",
       "      <td>2014</td>\n",
       "      <td>LARCENY/THEFT</td>\n",
       "      <td>-122.435563</td>\n",
       "      <td>37.760801</td>\n",
       "      <td>0.526134</td>\n",
       "      <td>0.471397</td>\n",
       "    </tr>\n",
       "    <tr>\n",
       "      <th>27585</th>\n",
       "      <td>2014</td>\n",
       "      <td>LARCENY/THEFT</td>\n",
       "      <td>-122.433575</td>\n",
       "      <td>37.800037</td>\n",
       "      <td>0.539528</td>\n",
       "      <td>0.821894</td>\n",
       "    </tr>\n",
       "    <tr>\n",
       "      <th>27586</th>\n",
       "      <td>2014</td>\n",
       "      <td>VEHICLE THEFT</td>\n",
       "      <td>-122.412777</td>\n",
       "      <td>37.786834</td>\n",
       "      <td>0.679676</td>\n",
       "      <td>0.703952</td>\n",
       "    </tr>\n",
       "    <tr>\n",
       "      <th>27587</th>\n",
       "      <td>2014</td>\n",
       "      <td>ASSAULT</td>\n",
       "      <td>-122.421702</td>\n",
       "      <td>37.773641</td>\n",
       "      <td>0.619540</td>\n",
       "      <td>0.586098</td>\n",
       "    </tr>\n",
       "    <tr>\n",
       "      <th>27588</th>\n",
       "      <td>2014</td>\n",
       "      <td>ASSAULT</td>\n",
       "      <td>-122.421702</td>\n",
       "      <td>37.773641</td>\n",
       "      <td>0.619540</td>\n",
       "      <td>0.586098</td>\n",
       "    </tr>\n",
       "  </tbody>\n",
       "</table>\n",
       "</div>"
      ],
      "text/plain": [
       "      Dates       Category           X          Y  x_scaled  y_scaled\n",
       "27584  2014  LARCENY/THEFT -122.435563  37.760801  0.526134  0.471397\n",
       "27585  2014  LARCENY/THEFT -122.433575  37.800037  0.539528  0.821894\n",
       "27586  2014  VEHICLE THEFT -122.412777  37.786834  0.679676  0.703952\n",
       "27587  2014        ASSAULT -122.421702  37.773641  0.619540  0.586098\n",
       "27588  2014        ASSAULT -122.421702  37.773641  0.619540  0.586098"
      ]
     },
     "execution_count": 13,
     "metadata": {},
     "output_type": "execute_result"
    }
   ],
   "source": [
    "sc=MinMaxScaler()\n",
    "sc.fit(data2014[[\"Y\"]])\n",
    "data2014[\"y_scaled\"]=sc.transform(data2014[[\"Y\"]])\n",
    "data2014.head()"
   ]
  },
  {
   "cell_type": "code",
   "execution_count": 14,
   "id": "f8698e8c-28da-436d-82b6-83c76f1e0fdf",
   "metadata": {},
   "outputs": [],
   "source": [
    "k_range=range(1,15)\n",
    "liste=[]\n",
    "for k in k_range:\n",
    "    model=KMeans(n_clusters=k)\n",
    "    model.fit(data2014[[\"x_scaled\",\"y_scaled\"]])\n",
    "    liste.append(model.inertia_)"
   ]
  },
  {
   "cell_type": "code",
   "execution_count": 15,
   "id": "d4545634-3699-43bb-887f-dc6f436b2d97",
   "metadata": {},
   "outputs": [],
   "source": [
    "from matplotlib import pyplot as plt"
   ]
  },
  {
   "cell_type": "code",
   "execution_count": 16,
   "id": "62d64ace-b256-4df9-a8ff-1eb642b90fc3",
   "metadata": {},
   "outputs": [
    {
     "data": {
      "image/png": "[encoded data removed]",
      "text/plain": [
       "<Figure size 640x480 with 1 Axes>"
      ]
     },
     "metadata": {},
     "output_type": "display_data"
    }
   ],
   "source": [
    "plt.xlabel(\"K\")\n",
    "plt.ylabel(\"değer\")\n",
    "plt.plot(k_range,liste)\n",
    "plt.show()"
   ]
  },
  {
   "cell_type": "code",
   "execution_count": 17,
   "id": "84646a8a-88ed-42e2-bed3-a965222b741a",
   "metadata": {},
   "outputs": [],
   "source": [
    "model=KMeans(n_clusters=5)\n",
    "y_predict=model.fit_predict(data2014[[\"x_scaled\",\"y_scaled\"]])"
   ]
  },
  {
   "cell_type": "code",
   "execution_count": 18,
   "id": "f7b05e70-2aff-4ec2-b298-24ebe110dbd8",
   "metadata": {},
   "outputs": [
    {
     "data": {
      "text/plain": [
       "array([0, 1, 1, ..., 1, 3, 1])"
      ]
     },
     "execution_count": 18,
     "metadata": {},
     "output_type": "execute_result"
    }
   ],
   "source": [
    "y_predict"
   ]
  },
  {
   "cell_type": "code",
   "execution_count": 19,
   "id": "c5b9a704-d564-4948-890a-d8faec30f959",
   "metadata": {},
   "outputs": [
    {
     "name": "stderr",
     "output_type": "stream",
     "text": [
      "C:\\Users\\Dell\\AppData\\Local\\Temp\\ipykernel_12508\\1592750552.py:1: SettingWithCopyWarning: \n",
      "A value is trying to be set on a copy of a slice from a DataFrame.\n",
      "Try using .loc[row_indexer,col_indexer] = value instead\n",
      "\n",
      "See the caveats in the documentation: https://pandas.pydata.org/pandas-docs/stable/user_guide/indexing.html#returning-a-view-versus-a-copy\n",
      "  data2014[\"cluster\"]=y_predict\n"
     ]
    },
    {
     "data": {
      "text/html": [
       "<div>\n",
       "<style scoped>\n",
       "    .dataframe tbody tr th:only-of-type {\n",
       "        vertical-align: middle;\n",
       "    }\n",
       "\n",
       "    .dataframe tbody tr th {\n",
       "        vertical-align: top;\n",
       "    }\n",
       "\n",
       "    .dataframe thead th {\n",
       "        text-align: right;\n",
       "    }\n",
       "</style>\n",
       "<table border=\"1\" class=\"dataframe\">\n",
       "  <thead>\n",
       "    <tr style=\"text-align: right;\">\n",
       "      <th></th>\n",
       "      <th>Dates</th>\n",
       "      <th>Category</th>\n",
       "      <th>X</th>\n",
       "      <th>Y</th>\n",
       "      <th>x_scaled</th>\n",
       "      <th>y_scaled</th>\n",
       "      <th>cluster</th>\n",
       "    </tr>\n",
       "  </thead>\n",
       "  <tbody>\n",
       "    <tr>\n",
       "      <th>27584</th>\n",
       "      <td>2014</td>\n",
       "      <td>LARCENY/THEFT</td>\n",
       "      <td>-122.435563</td>\n",
       "      <td>37.760801</td>\n",
       "      <td>0.526134</td>\n",
       "      <td>0.471397</td>\n",
       "      <td>0</td>\n",
       "    </tr>\n",
       "    <tr>\n",
       "      <th>27585</th>\n",
       "      <td>2014</td>\n",
       "      <td>LARCENY/THEFT</td>\n",
       "      <td>-122.433575</td>\n",
       "      <td>37.800037</td>\n",
       "      <td>0.539528</td>\n",
       "      <td>0.821894</td>\n",
       "      <td>1</td>\n",
       "    </tr>\n",
       "    <tr>\n",
       "      <th>27586</th>\n",
       "      <td>2014</td>\n",
       "      <td>VEHICLE THEFT</td>\n",
       "      <td>-122.412777</td>\n",
       "      <td>37.786834</td>\n",
       "      <td>0.679676</td>\n",
       "      <td>0.703952</td>\n",
       "      <td>1</td>\n",
       "    </tr>\n",
       "    <tr>\n",
       "      <th>27587</th>\n",
       "      <td>2014</td>\n",
       "      <td>ASSAULT</td>\n",
       "      <td>-122.421702</td>\n",
       "      <td>37.773641</td>\n",
       "      <td>0.619540</td>\n",
       "      <td>0.586098</td>\n",
       "      <td>0</td>\n",
       "    </tr>\n",
       "    <tr>\n",
       "      <th>27588</th>\n",
       "      <td>2014</td>\n",
       "      <td>ASSAULT</td>\n",
       "      <td>-122.421702</td>\n",
       "      <td>37.773641</td>\n",
       "      <td>0.619540</td>\n",
       "      <td>0.586098</td>\n",
       "      <td>0</td>\n",
       "    </tr>\n",
       "  </tbody>\n",
       "</table>\n",
       "</div>"
      ],
      "text/plain": [
       "      Dates       Category           X          Y  x_scaled  y_scaled  cluster\n",
       "27584  2014  LARCENY/THEFT -122.435563  37.760801  0.526134  0.471397        0\n",
       "27585  2014  LARCENY/THEFT -122.433575  37.800037  0.539528  0.821894        1\n",
       "27586  2014  VEHICLE THEFT -122.412777  37.786834  0.679676  0.703952        1\n",
       "27587  2014        ASSAULT -122.421702  37.773641  0.619540  0.586098        0\n",
       "27588  2014        ASSAULT -122.421702  37.773641  0.619540  0.586098        0"
      ]
     },
     "execution_count": 19,
     "metadata": {},
     "output_type": "execute_result"
    }
   ],
   "source": [
    "data2014[\"cluster\"]=y_predict\n",
    "data2014.head()"
   ]
  },
  {
   "cell_type": "code",
   "execution_count": 20,
   "id": "3a6c0956-bb3d-4eef-ba2a-b4f2978b7763",
   "metadata": {},
   "outputs": [],
   "source": [
    "import plotly.express as px"
   ]
  },
  {
   "cell_type": "code",
   "execution_count": 26,
   "id": "cb5f22a6-328f-412e-b706-62dd285587eb",
   "metadata": {},
   "outputs": [
    {
     "data": {
      "text/plain": [
       "'maps.html'"
      ]
     },
     "execution_count": 26,
     "metadata": {},
     "output_type": "execute_result"
    }
   ],
   "source": [
    "import plotly\n",
    "fig = px.scatter_mapbox(\n",
    "    data2014, \n",
    "    lat=\"Y\", \n",
    "    lon=\"X\",\n",
    "    center=dict(lat=37.8, lon=-122.4),\n",
    "    zoom=9,\n",
    "    mapbox_style=\"open-street-map\",\n",
    "    color=\"cluster\",\n",
    "    title=\"Suç Haritası\",\n",
    "    width=1100,\n",
    "    height=700,\n",
    "    hover_data=[\"cluster\", \"Category\", \"Y\", \"X\"]\n",
    ")\n",
    "\n",
    "plotly.offline.plot(fig,filename=\"maps.html\",auto_open=True)"
   ]
  },
  {
   "cell_type": "code",
   "execution_count": null,
   "id": "0dd717e9-dbd4-469a-9ba3-55b3cd4e42f1",
   "metadata": {},
   "outputs": [],
   "source": []
  },
  {
   "cell_type": "code",
   "execution_count": null,
   "id": "9e0dab1d-6797-4fdc-b6e3-9b963eaf8633",
   "metadata": {},
   "outputs": [],
   "source": []
  },
  {
   "cell_type": "code",
   "execution_count": null,
   "id": "7c699d5f-f16a-462a-90f8-8a709349ecb9",
   "metadata": {},
   "outputs": [],
   "source": []
  },
  {
   "cell_type": "code",
   "execution_count": null,
   "id": "58619377-9116-4e40-bcf3-d0e01856160e",
   "metadata": {},
   "outputs": [],
   "source": []
  }
 ],
 "metadata": {
  "kernelspec": {
   "display_name": "Python 3 (ipykernel)",
   "language": "python",
   "name": "python3"
  },
  "language_info": {
   "codemirror_mode": {
    "name": "ipython",
    "version": 3
   },
   "file_extension": ".py",
   "mimetype": "text/x-python",
   "name": "python",
   "nbconvert_exporter": "python",
   "pygments_lexer": "ipython3",
   "version": "3.11.5"
  }
 },
 "nbformat": 4,
 "nbformat_minor": 5
}
